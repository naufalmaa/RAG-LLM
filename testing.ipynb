{
 "cells": [
  {
   "cell_type": "markdown",
   "metadata": {},
   "source": [
    "set .env"
   ]
  },
  {
   "cell_type": "code",
   "execution_count": null,
   "metadata": {},
   "outputs": [],
   "source": [
    "from dotenv import load_dotenv\n",
    "import os\n",
    "\n",
    "# Load the .env file\n",
    "load_dotenv()\n",
    "\n",
    "# Access the environment variable\n",
    "openai_api_key = os.getenv(\"OPENAI_API_KEY\")\n",
    "\n",
    "# Print the API key to verify (optional, for debugging purposes)\n",
    "print(f\"OpenAI API Key: {openai_api_key}\")\n",
    "\n",
    "# testing\n"
   ]
  },
  {
   "cell_type": "code",
   "execution_count": 2,
   "metadata": {},
   "outputs": [],
   "source": [
    "# you wont\n",
    "from dotenv import load_dotenv"
   ]
  },
  {
   "cell_type": "markdown",
   "metadata": {},
   "source": [
    "create simple chatbot using LangChain Chain Expression Language (LCEL)"
   ]
  },
  {
   "cell_type": "code",
   "execution_count": 7,
   "metadata": {},
   "outputs": [
    {
     "name": "stdout",
     "output_type": "stream",
     "text": [
      "1. \"Harry Potter and the Philosopher's Stone\" (1997)\n",
      "\n",
      "2. \"Harry Potter and the Chamber of Secrets\" (1998)\n",
      "\n",
      "3. \"Harry Potter and the Prisoner of Azkaban\" (1999)\n",
      "\n",
      "4. \"Harry Potter and the Goblet of Fire\" (2000)\n",
      "\n",
      "5. \"Harry Potter and the Order of the Phoenix\" (2003)\n",
      "\n",
      "6. \"Harry Potter and the Half-Blood Prince\" (2005)\n",
      "\n",
      "7. \"Harry Potter and the Deathly Hallows\" (2007)\n",
      "\n",
      "8. \"The Casual Vacancy\" (2012)\n",
      "\n",
      "9. \"The Cuckoo's Calling\" (2013) - Under the pseudonym Robert Galbraith\n",
      "\n",
      "10. \"The Silkworm\" (2014) - Under the pseudonym Robert Galbraith\n",
      "\n",
      "11. \"Career of Evil\" (2015) - Under the pseudonym Robert Galbraith\n",
      "\n",
      "12. \"Lethal White\" (2018) - Under the pseudonym Robert Galbraith\n",
      "\n",
      "13. \"Troubled Blood\" (2020) - Under the pseudonym Robert Galbraith\n",
      "\n",
      "14. \"Harry Potter and the Cursed Child\" (2016) - Original Story by J.K. Rowling, John Tiffany, and Jack Thorne\n",
      "\n",
      "15. \"Fantastic Beasts and Where to Find Them\" (2001)\n",
      "\n",
      "16. \"Quidditch Through the Ages\" (2001)\n",
      "\n",
      "17. \"The Tales of Beedle the Bard\" (2008)\n"
     ]
    }
   ],
   "source": [
    "# This is a simple example of calling an LLM with LangChain.\n",
    "from langchain_core.output_parsers import StrOutputParser\n",
    "from langchain_core.prompts import ChatPromptTemplate\n",
    "from langchain_openai import ChatOpenAI\n",
    "\n",
    "from dotenv import load_dotenv\n",
    "\n",
    "# This expects a .env file in the same directory, containing\n",
    "\"\"\"\n",
    "OPENAI_API_KEY=\"<your_key_here>\"\n",
    "\"\"\"\n",
    "\n",
    "def basic_chain():\n",
    "   prompt = ChatPromptTemplate.from_template(\"Tell me the most noteworthy books by the author {author}\")\n",
    "   model = ChatOpenAI(model=\"gpt-4\")\n",
    "   output_parser = StrOutputParser()\n",
    "\n",
    "\n",
    "   chain = prompt | model | output_parser\n",
    "\n",
    "\n",
    "   results = chain.invoke({\"author\": \"JK Rowling\"})\n",
    "   print(results)\n",
    "\n",
    "\n",
    "def main():\n",
    "   load_dotenv()\n",
    "   basic_chain()\n",
    "\n",
    "\n",
    "if __name__ == '__main__':\n",
    "   main()"
   ]
  },
  {
   "cell_type": "markdown",
   "metadata": {},
   "source": [
    "loading TXT File"
   ]
  },
  {
   "cell_type": "code",
   "execution_count": 8,
   "metadata": {},
   "outputs": [
    {
     "name": "stdout",
     "output_type": "stream",
     "text": [
      "[Document(page_content='IMPORTANT NOTICE: This license only applies if you downloaded this content as\\nan unsubscribed user. If you are a premium user (ie, you pay a subscription)\\nyou are bound to the license terms described in the accompanying file\\n\"License premium.txt\".\\n\\n---------------------\\n\\nYou must attribute the image to its author:\\n\\nIn order to use a content or a part of it, you must attribute it to Freepik,\\nso we will be able to continue creating new graphic resources every day.\\n\\n\\nHow to attribute it?\\n\\nFor websites:\\n\\nPlease, copy this code on your website to accredit the author:\\n<a href=\"http://www.freepik.com\">Designed by Freepik</a>\\n\\nFor printing:\\n\\nPaste this text on the final work so the authorship is known.\\n- For example, in the acknowledgements chapter of a book:\\n\"Designed by Freepik\"\\n\\n\\nYou are free to use this image:\\n\\n- For both personal and commercial projects and to modify it.\\n- In a website or presentation template or application or as part of your design.\\n\\nYou are not allowed to:\\n\\n- Sub-license, resell or rent it.\\n- Include it in any online or offline archive or database.\\n\\nThe full terms of the license are described in section 7 of the Freepik\\nterms of use, available online in the following link:\\n\\n  http://www.freepik.com/terms_of_use\\n\\nThe terms described in the above link have precedence over the terms described\\nin the present document. In case of disagreement, the Freepik Terms of Use\\nwill prevail.\\n', metadata={'source': 'examples/License free.txt'})]\n"
     ]
    }
   ],
   "source": [
    "from langchain_community.document_loaders import TextLoader\n",
    "loader = TextLoader(\"examples/License free.txt\")\n",
    "docs = loader.load()\n",
    "\n",
    "print(docs)"
   ]
  },
  {
   "cell_type": "markdown",
   "metadata": {},
   "source": [
    "loading PDF File"
   ]
  },
  {
   "cell_type": "code",
   "execution_count": 9,
   "metadata": {},
   "outputs": [
    {
     "data": {
      "text/plain": [
       "[Document(page_content='LAM PIRA N B.1  \\nSCOPE OF SERVICES  \\n \\n \\nSUBSURFACE MACHINE LEARNING PLATFORM  \\nLingkup Kerja', metadata={'source': 'examples/GS - Lampiran B.1 Lingkup kerja Platform Machine Learning.pdf', 'page': 0}),\n",
       " Document(page_content='1. Latar Belakang  \\nSubsurface Machine Learning (ML) Platform  adalah platform perangkat \\nlunak yang diperlukan dalam membuat solusi  aplikasi  subsurface  berbasis \\npenggunaan model machine learning . Platform ini beroperasi di upstream \\ncloud  milik PERUSAHAAN . Hasil  utama dari platform ini adalah untuk \\nmendukung rencana pengembangan blok Mahakam yang optim al dengan  \\nmemanfaatkan analisis big data  yang menggunakan  platform machine learning  \\npada perangkat  komputasi kinerja tinggi ( Cluster Machine / High Performance \\nComputing  (HPC)  server ). \\n \\n2. Tujuan  \\nMemberikan dukungan dalam  menjalankan rencana studi pengembangan \\nsubsurface  MAHAKAM yang optimal dan menjalankan proyek berbasis \\nMachine Learning  untuk keberlangsungan operasional . \\n \\n3. Durasi  \\nMerujuk ke Pokok Perjanjian no. 4 . \\n \\n4. Lisensi  / Langganan  \\nKONTRAKTOR wajib  untuk  menyediakan dan mengintegrasikan seluruh \\nlisensi  (termasuk lisensi dari pihak ketiga)  Subsurface Machine Learning \\nPlatform  yang diperlukan untuk mendukung pemanfaatan dan pengoperasian \\nplatform tanpa ada biaya tambahan apapun.  \\n \\n5. Layanan yang Dibutuhkan  \\n• Layanan Instalasi di  Upstream Cloud   \\nKONTRAKTOR wajib melakukan instalasi Machine Learning Platform  \\ndi dalam cluster server  HPC dan melakukan konfigurasi platform agar \\nplatform dapat terintegrasi secara benar  dengan Upstream Cloud  milik \\nPERUSAHAAN.  Platform yang telah terkonfigurasi harus diuji \\nfungsionalitas dan performanya serta harus dipastikan bebas dari \\nkesalahan ( error free ). KONTRAKTOR wajib menyediakan \\ndokumentasi yang berkaitan dengan instalasi, konfigurasi, dan \\npedoman pemecahan masalah ( troubleshooting guidelines ). Semua \\naktivitas  selama instalasi harus mematuhi kebijakan PERUSAHAAN. \\nPenerimaan  / service acceptance  terkait layanan instalasi tunduk pada \\npersetujuan dari PERUSAHAAN.  Semua perangkat lunak yang diinstal , \\nkomponen , library, toolkit , dan  dokumentasi pendukungnya harus \\ndiserahkan kepada PERUSAHAAN.  \\n \\nKONTRAKTOR wajib memberikan dukungan instalasi dan konfigurasi \\nulang jika terdapat penambahan, pergantian, perubahan, atau migrasi \\nperangkat keras pada infrastruktur HPC. PERUSAHAAN berhak untu k \\nmenggunakan seluruh perangkat lu nak beserta komponen \\npendukung nya jika diperlukan instalasi / konfigurasi ulang dikemudian \\nhari. Dukungan instalasi dan konfigurasi ulang serta penggunaan \\nperangkat lunak termasuk komponen didalamnya dikerjakan dan \\ndiinteg rasikan  tanpa adanya tambahan biaya apapun.', metadata={'source': 'examples/GS - Lampiran B.1 Lingkup kerja Platform Machine Learning.pdf', 'page': 1}),\n",
       " Document(page_content='• Instalasi Platform dan Layanan Konfigurasi  \\nKONTRAKTOR wajib melakukan instalasi  dan mengk onfigurasi \\nMachine Learning Platform  dengan arsitektur:  \\no Master node  dengan mesin HPC 2 x 12 CPU Intel Xeon Gold 51 18 \\no 3 (tiga) computing node  dengan mesin HPC  2 x 12 CPU Intel Xeon \\nGold 51 18 dan 128 Gb RAM  \\no Semua node  wajib dapat  digunakan secara efektif dan memiliki \\nkemampuan load balancing  \\no Desain dan skema dari infrastruktur PERUSAHAAN:  \\n \\no KONTRAKTOR wajib melaksanakan instalasi platform dan layanan \\nkonfigurasi berdasarkan proposal yang disampaikan pada poin \\nnomor 7 (tujuh).  \\n \\n• Workshop  Sistem Administrasi  \\nKONTRAKTOR wajib menyediakan workshop  mengenai  sistem  \\nadministrasi machine learning  kepada PERUSAHAAN. Workshop  \\nsistem administrasi harus berisi tentang  hands -on instalasi platform, \\nadministrasi pengguna, pengelola an sumber daya platform, error \\ntroubleshooting , dan semua hal yang berkaitan dengan administrasi \\nplatform Machine Learning . Durasi minimum workshop  sistem \\nadministrasi adalah 3 (tiga) hari kerja.  \\n \\n• Pelatihan Awal  \\nKONTRAKTOR wajib menyediakan workshop  awal kepada \\nPERUSAHAAN untuk mengenalkan platform  ML, fitur-fitur ML, \\ndashboard  ML, serta cara penggunaan platform ML secara umum.  \\nPelatihan awal dibagi menjadi 2 (dua) batch  dan masing -masing batch \\nberdurasi minimum 3 (tiga) hari kerja.  \\n \\n• Workshop  Pengembangan Model ML  \\nKONTRAKTOR wajib menyediakan workshop  kepada PERUSAHAAN \\nmengenai  pembuatan model machine learning  di dalam platform \\nmachine learning  yang sudah terinstal . Workshop  tersebut terdiri dari \\npemanfaatan platform machine learning  untuk mengimpor / loading  \\ndata, membersihkan data, merekayasa data, membuat model machine \\nlearning , membuat prediksi menggunakan  model machine learning ,', metadata={'source': 'examples/GS - Lampiran B.1 Lingkup kerja Platform Machine Learning.pdf', 'page': 2}),\n",
       " Document(page_content='dan mengintegrasikan model machine learning dengan perangkat \\nlunak yang  sudah ada di PERUSAHAAN . Workshop  yang diadakan \\nmerupakan pembelajaran berkelanjutan dengan memanfatkan semua \\nalgoritma machine learning  yang berhubungan dengan subsurface  \\nsesuai dengan jalur pembelajaran PERUSAHAAN.  Durasi workshop  \\npengembangan model machine learning  akan mengikuti tabel \\nremunerasi kontrak.  \\n \\n• Pembuatan Profil Pengguna  \\nKONTRAKTOR  wajib menyediakan profil pengguna sesuai dengan \\ntabel remunerasi kontrak dengan deskripsi peran  sebagai berikut : \\no Developer  / designer  → Merupakan akun pengguna yang \\ndikhususkan untuk tujuan persiapan data, pembuatan model, \\npembuatan dashboard , dan integrasi dengan sistem -sistem \\naplikasi yang sudah ada di PERUSAHAAN . \\no Explorer  / read-only → Merupakan akun pengguna yang \\nditujukan untuk menggunakan model machine learning  untuk \\nkebutuhan prediksi.  \\n \\n• Perangkat Lunak Platform Machine Learning  \\nKONTRAKTOR wajib menyediakan platform machine learning  yang \\ndiinstal di upstream cloud  milik PERUSAHAAN yang terdiri dari \\nperangkat  lunak  pengembangan (User Interface ) dan termasuk \\ndidalamnya komponen, modul, library , toolkit  yang diperlukan untuk \\npengemba ngan solusi subsurface  berbasis  ML / AI. \\n \\n• Bahasa Pemrograman  \\nSemua pengembangan model machine learning  minimum \\nmenggunakan bahasa pemrograman Python.  \\n \\n• Application Programming Interface  \\nApplication programming interface  (API) yang digunakan untuk \\nmenggunakan  model machine learning  harus mengikuti kebijakan \\nPERUSAHAAN.  API ini wajib dapat terintegrasi dengan aplikasi -\\naplikasi subsurface  yang sudah ada di PERUSAHAAN. Jika terdapat \\nperangkat lunak tambahan yang digunakan untuk mengintegrasikan \\nAPI ini, maka harus disediakan oleh KONTRAKTOR tanpa adanya \\nbiaya tambahan.  \\n \\n• Platform  Deployment  \\nPlatform machine learning  wajib  diinstal dan berjalan  dengan benar \\n(error free ) di UC. Lebih lanjut, Platform harus compatible  dan \\nmengutilisasi infrastruktur PERTAMINA UC yang terdiri dari 4  (empat)  \\nnode  infrastruktur HPC  (1 (satu)  master node  dan 3  (tiga)  computing \\nnode ). Platform juga harus  memiliki fitur yang mampu untuk memonitor \\ndan mengelola sumber daya dari HPC  yang sedang digunakan . \\n \\n• Modul  / Komponen  / Libraries  Pihak Ketiga', metadata={'source': 'examples/GS - Lampiran B.1 Lingkup kerja Platform Machine Learning.pdf', 'page': 3}),\n",
       " Document(page_content='Semua modul  / komponen  / libraries  yang terinstal  / tersedia di dalam \\nplatform harus sah secara hukum, memenuhi syarat, dan berhak untuk \\ndigunakan oleh PERUSAHAAN . Pengunaannya wajib  mengikuti \\nkebijakan PERUSAHAAN.  \\n \\n• Fitur Minimum Platform Machine Learning  \\nPlatform machine learning  harus memiliki kemampuan s ebagai berikut : \\no Platform Machine Learning  wajib  menyediakan perangkat lunak  \\nuntuk membuat model machine learning  yang terdiri dari \\nworkflow  sebagai berikut : pengambilan  data, analisis data, \\npembersihan data,  data engineering , pembuatan model, \\nevaluasi model, dan penyimpanan model. Fitur-fitur ini wajib  \\nmudah digunakan, intuitif, dan ramah pengguna.  \\no Platform Machine Learning  wajib menyediakan media \\nkomunikasi  / Application Programing Interface  (API)  yang \\nmemungkin kan model untuk dipergunakan oleh sistem / \\nperangkat lunak yang sudah ada di PERUSAHAAN .  \\no Adalah suatu kewajiban pada platfo rm untuk mampu \\nmendapatkan data dari berbagai sumber baik data terstruktur \\nataupun  yang tidak terstruktur  secara mudah dan cepat untuk \\ntraining  model maupun melakukan prediksi . \\no Platform Machine Learning  wajib mendukung kerja kolaboratif \\ndan mempunyai fitur untuk mengelola script  dan model machine \\nlearning . \\no Platform Machine Learning  wajib memiliki fitur yang dapat \\ndipergunakan untuk mengelola  user roles , riwayat aktivitas \\npengguna, dan sumber daya pengguna (misalnya disk space , \\nperizinan berbagi file, sumber daya perangkat keras, dll.) . \\no Platform Machine Learning  wajib  memiliki Integrated \\nDevelopment Environment  (IDE)  code  dan no-code GUI yang \\ndapat digunakan untuk mengembangkan  / membuat model \\nML/AI.   \\no Perangkat lunak  / IDE dalam platform  ini setidak -tidaknya  wajib:  \\n▪ Memiliki kemampuan untuk:  \\n• Memuat data dari berbagai sumber (Microsoft Excel, \\nCSV, database  Oracle , SQL server , dan data tak \\nterstruktur  seperti MongoDB ) \\n• Transformasi data  / pengkondisian data yang \\nmeliputi:  \\no Transpose, merge, dan aggregate . \\no Transformasi data menggunakan formula / \\nfungsi tertentu . \\no Pra-pemrosesan data (pembersihan dan \\nsubstitusi data) . \\n• Membuat visualisasi data yang meliputi:  \\no Chart dan diagram . \\no Workflow proccess.  \\n• Membuat model menggunakan  algoritma minimum \\nsebagai berikut :', metadata={'source': 'examples/GS - Lampiran B.1 Lingkup kerja Platform Machine Learning.pdf', 'page': 4}),\n",
       " Document(page_content='o Clustering algorithms , SVM, linear \\nregression , tree based algorithm beserta \\nturunannya , neural network  / deep learning  \\nbeserta  berbagai turunannya . \\n• Melakukan tahapan evaluasi yang meliputi:  \\no Pengujian dan perhitungan perfo rma model , \\nprediksi, dan kurva performa . \\n• Melakukan perhitungan time series  minimal  meliputi:  \\no Interpolasi, moving transform , model ARIMA, \\ndan evaluasi model time series . \\n• Menyimpan model yang telah dibuat dalam berbagai \\nformat  minimum pickle , .hdf5, .h5, dan .keras.  \\no Machine Learning  platform wajib m emiliki peralatan manajemen \\nproyek ML/AI yang meliputi:  \\n▪ Riwayat pembuatan proyek  \\n▪ Deskripsi proyek  \\n▪ Alat replikasi  proyek  \\n▪ Manajemen komponen ( library ) proyek  \\no Platform  Machine Learning  wajib memiliki fitur yang dapat \\ndipergunakan untuk melakukan monitoring dan pengelolaan \\nplatform ( contoh: master & node monitoring, controlling node, \\nsystem back up, data synchronization)  \\n \\n• Akses Segera  ke Versi dan Patch  Perangkat Lunak Terbaru  \\nKONTRAKTOR wajib memberikan  PERUSAHAAN dukungan  akses ke \\nversi dan patch  terbaru dari perangkat lunak yang ada termasuk  \\ninstalasi, konfigurasi  peningkatan dari fitur -fitur pada platform Machine \\nLearning . \\n \\n• Akses ke Layanan Dukungan Online  Terkait Perangkat Lunak  \\nSebagian besar produsen perangkat lunak menyediakan akses web \\nmengenai dukungan teknis, patch , dan berita rilis perangkat lunak baru. \\nJika tersedia, KONTRAKTOR wajib memberikan PERUSAHAAN akses \\nke su mber daya ini berupa world wide web  dan/atau alamat FTP \\nbeserta nama pengguna dan kata sandi jika diperlukan.  \\n \\n• Akses Dukungan Teknis  Penggunaan  Platform  \\nKONTRAKTOR wajib memberikan  akses pada PERUSAHAAN untuk \\nmendapatkan dukungan melalui telefon , email,  dan atau media \\nkomunikasi lainnya sebagai support  / dukungan atas software  yang \\ndikelola. Dukungan yang diberikan harus dapat memberikan bimbingan  \\n/ petunjuk  mengenai penggunaan produk perangkat lunak,  \\npenyelesaian masalah konfigurasi, dan menjadi titik kontak pertama \\njika terdapat error  pada perangkat lunak.  \\n \\n• Eskalasi  Error  \\nPERUSAHAAN wajib mendapatkan analisis mendalam dan informasi \\neskalasi terkait error  yang muncul pada  produk platform Machine \\nLearning . KONTRAKTOR harus mengerahkan sumber daya yang', metadata={'source': 'examples/GS - Lampiran B.1 Lingkup kerja Platform Machine Learning.pdf', 'page': 5}),\n",
       " Document(page_content='sesuai untuk menginvestigasi secara penuh penyebab dari error  dan \\nmengambil langkah -langkah yang tepat untuk memperbaiki error  yang \\nada seperti pemberian  patch  pada perangkat lunak . \\n \\n• Technical Sharing  Session  \\nSelama periode KONTRAK, KONTRAKTOR wajib melakukan \\nkunjungan ke kantor PERUSAHAAN minimal 2 (dua) kali dalam 1 (satu)  \\ntahun untuk memberikan technical sharing session  terkait pembaruan , \\nissue penggunaan,  dan solusi lengkap terhadap dugaan error  dalam  \\nperangkat lunak.  \\n \\n• Notifikasi  \\nNOTIFIKASI  berakhirnya lisensi wajib  diberitahukan  pada \\nPERUSAHAAN minimal 3 (tiga) bulan sebelum tanggal kadaluarsa . \\nPERUSAHAAN wajib  diberikan pemberitahuan terlebih dahulu \\nmengenai segala usulan yang berkaitan dengan  penggunaan, lisensi , \\nserta informasi lainnya yang relevan terhadap  perangkat lunak \\ntersebut. Jika dukungan terhadap perangkat lunak akan ditarik, \\nKONTRAKTOR wajib memberikan pemberitahuan 1 (satu) tahun \\nsebelumnya kepada PERUSAHAAN . \\n \\n• Lisensi Non -Eksklusif  \\nLISENSI tersebut bersifat non -eksklusif dan dapat digunakan oleh \\nAFILIASI PERUSAHAAN tanpa memerlukan formalitas tertentu.  \\n \\n6. Keahlian dalam Proyek dan Infrastruktur Subsurface Machine Learning  \\nKONTRAKTOR wajib memiliki pengalaman minimal 3 (tiga) tahun dalam  \\npengerjaan subsurface machine learning  dan memiliki pengalaman dalam \\nmengelola infrastruktur subsurface  dan infrastruktur pengembangan aplikasi \\nsubsurface  berbasis machine learning  selama minimal 3 (tiga) tahun . \\nKONTRAKTOR wajib memiliki pengalaman mengerjakan  subsurface machine \\nlearning  minimal 3 (tiga) proyek . \\n \\n \\n7. Proposal Instalasi & Utilisasi  \\nKONTRAKTOR wajib menyediakan proposal instalasi / deployment  dan \\nproposal operasional ya ng berisikan rencana lengkap instalasi  dan \\npeng gunaan dari feature  perangkat lunak yang ditawarkan untuk membuat dan \\nmengelola proyek machine learning . Usulan tersebut harus mengikuti \\ninfrastruktur UC  serta kebijakan PERUSAHAAN . \\n \\n8. Perlengkapan dan Per alatan Keselamatan Kerja  \\nAsesmen resiko harus dilakukan sebelum pekerjaan dimulai sesuai dengan \\nperaturan PERUSAHAAN.  Asesmen resiko harus disiapkan oleh \\nKONTRAKTOR dan disetujui oleh PERUSAHAAN untuk memungkinkan \\ndimulainya pekerjaan . \\n \\n9. Transportasi dan Akomodasi', metadata={'source': 'examples/GS - Lampiran B.1 Lingkup kerja Platform Machine Learning.pdf', 'page': 6}),\n",
       " Document(page_content='KONTRAKTOR wajib menyediakan transportasi dan akomodasi yang aman, \\nterjamin, dan layak bagi personelnya selama berada di Bali kpapan.  \\n \\n10. Koordinasi  \\nKONTRAKTOR wajib memberikan bagan organisasi yang lengkap disertai \\ndengan nama, nomor telepon, faksimile, dan alamat email  masing -masing \\nkontak person . Semua komunikas i dan pengiriman dokumen termasuk lisensi \\nperangkat lunak harus ditujukan kepada PERUSAHAAN:  \\n \\nu.p. Manajer WOPD  \\nSDP/WOPD  \\nPT. Pertamina Hulu Mahakam  \\nJl. Yos Sudarso, PO BOX 606  \\nBalikpapan 76123, Kalimantan Timur – INDONESIA  \\n \\n11. Hak Cipta dan Kepemilikan Perangkat Lunak  \\nKONTRAKTOR wajib memberikan surat keagenan dari software principle  yang \\nmenyatakan  wewenang eksklusif dari software principle  untuk menyediakan \\ninstalasi, pelatihan, pemeliharaan, dukungan, dan konsultasi di Indonesia \\nsehubungan dengan perangkat lunak tersebut.  \\n \\n12. Garansi  \\nKONTRAKTOR wajib memberikan jaminan atas kualitas layanan \\npemeliharaan selama  periode kontrak yang berlaku . \\n \\n13. Metode Pembayaran  \\nPembayaran akan dilakukan setiap tahun. Faktur yang diterbitkan oleh \\nKONTRAKTOR harus mengikuti prosedur keuangan PERUSAHAAN.  \\n \\n14. Konten Domestik  \\nSelama masalah eskalasi dan kunjungan teknis seperti yang telah disebutkan \\npada layanan -layanan di atas, sesuai peraturan pemerintah yang tercantum \\npada PTK 007 rev5 terkait konten dalam negeri, penyuplai perangkat lunak \\nharus menyediakan s umber daya yang memadai dari personel lokal.  \\n \\n15. Penggunaan Lisensi oleh Anak Perusahaan  \\nPERUSAHAAN d iperbolehkan menggunakan lisensi perangkat lunak di bawah \\nPT Pertamina Hulu Indonesia dan di seluruh anak perusahaan PT Pertamina \\nHulu Indonesia, dengan penempatan lisensi jaringan perpetual  pada PT \\nPertamina Hulu Mahakam, PT Pertamina Hulu Indonesia, seluruh anak \\nperusahaan PT Pertamina Hulu Indonesia, dan Pertamina Cloud Services . \\n \\n16. Meminimalk an Risiko dan Memaksimalkan Pelayanan  \\nPemanfaatan  teknologi untuk  memaksimalkan penggunaan layanan dan \\nmeminimalkan risiko/biaya jika terjadi eskalasi masalah dan kunjungan teknis \\ndengan membatasi kunjungan fisik  sangat dianjurkan.  Kedua belah pihak akan \\nmempertimbangkan berbagai opsi untuk meningkatkan hal ini.  \\n \\n17. Business Continuity Plan  (BCP)', metadata={'source': 'examples/GS - Lampiran B.1 Lingkup kerja Platform Machine Learning.pdf', 'page': 7}),\n",
       " Document(page_content='Sebelum aktivasi Business Continuity Plan , KONTRAKTOR harus memberikan \\nlisensi sementara (temporary ) selama proses pemulihan business.  \\n \\n18. Penggunaan Perangkat Lunak dan Residensi Data  \\nPERUSAHAAN mendapat kan lisensi untuk menggunakan perangkat lunak dan \\nmenerima pemeliharaan perangkat lunak di Indonesia.  Seluruh data, script , \\nmodel, termasuk turunannya adalah milik PERUSAHAAN. KONTRAKTOR \\ndilarang menyalin, menggunakan, mentransfer, memanfaatkan, memodifikasi, \\nmenghapus data atau model  atau script, dan/atau turunannya tanpa izin \\nPERUSAHAAN.  \\n \\n19. Sistem Pencadangan On-Premise  \\nKONTRAKTOR wajib menyediakan sistem cadangan di lokasi PERUSAHAAN  \\nyang mampu membuat cadangan model machine learning  dengan persyaratan \\nberikut:  \\na. Sistem harus mematuhi kebijakan PERUSAHAAN . \\nb. KONTRAKTOR wajib menyediakan perangkat keras yang akan \\ndigunakan se bagai sistem pencadangan dengan minimum spesifikasi \\nperangkat keras di lokasi PERUSAHAAN yaitu:  \\no 1 (satu) node  HPC atau \\no 2 x 12 CPU Intel Xeon Gold 51 18 dan 128 Gb RAM  \\nc. Sistem cadangan harus mampu membuat dan menjalankan model \\nmachine learning . \\nd. Sistem harus dapat melakukan sinkronisasi  / berkomunikasi  dengan \\nUpstream Cloud  (UC) .', metadata={'source': 'examples/GS - Lampiran B.1 Lingkup kerja Platform Machine Learning.pdf', 'page': 8})]"
      ]
     },
     "execution_count": 9,
     "metadata": {},
     "output_type": "execute_result"
    }
   ],
   "source": [
    "from langchain_community.document_loaders import PyPDFLoader\n",
    "\n",
    "loader = PyPDFLoader(\"examples/GS - Lampiran B.1 Lingkup kerja Platform Machine Learning.pdf\")\n",
    "pages = loader.load_and_split()\n",
    "\n",
    "pages"
   ]
  },
  {
   "cell_type": "markdown",
   "metadata": {},
   "source": [
    "alternatives for loading TXT and PDF Files (1 document instead of per page)"
   ]
  },
  {
   "cell_type": "code",
   "execution_count": 11,
   "metadata": {},
   "outputs": [
    {
     "ename": "AttributeError",
     "evalue": "'PyPDFLoader' object has no attribute 'name'",
     "output_type": "error",
     "traceback": [
      "\u001b[1;31m---------------------------------------------------------------------------\u001b[0m",
      "\u001b[1;31mAttributeError\u001b[0m                            Traceback (most recent call last)",
      "Cell \u001b[1;32mIn[11], line 23\u001b[0m\n\u001b[0;32m     19\u001b[0m        docs\u001b[38;5;241m.\u001b[39mappend(doc_text)\n\u001b[0;32m     21\u001b[0m    \u001b[38;5;28;01mreturn\u001b[39;00m docs\n\u001b[1;32m---> 23\u001b[0m testing \u001b[38;5;241m=\u001b[39m \u001b[43mget_document_text\u001b[49m\u001b[43m(\u001b[49m\u001b[43mloader\u001b[49m\u001b[43m)\u001b[49m\n\u001b[0;32m     24\u001b[0m \u001b[38;5;28mprint\u001b[39m(testing)\n",
      "Cell \u001b[1;32mIn[11], line 8\u001b[0m, in \u001b[0;36mget_document_text\u001b[1;34m(uploaded_file)\u001b[0m\n\u001b[0;32m      6\u001b[0m \u001b[38;5;28;01mdef\u001b[39;00m \u001b[38;5;21mget_document_text\u001b[39m(uploaded_file):\n\u001b[0;32m      7\u001b[0m    docs \u001b[38;5;241m=\u001b[39m []\n\u001b[1;32m----> 8\u001b[0m    \u001b[38;5;28;01mif\u001b[39;00m \u001b[43muploaded_file\u001b[49m\u001b[38;5;241;43m.\u001b[39;49m\u001b[43mname\u001b[49m\u001b[38;5;241m.\u001b[39mlower()\u001b[38;5;241m.\u001b[39mendswith(\u001b[38;5;124m'\u001b[39m\u001b[38;5;124mpdf\u001b[39m\u001b[38;5;124m'\u001b[39m):\n\u001b[0;32m      9\u001b[0m        pdf_reader \u001b[38;5;241m=\u001b[39m PdfReader(uploaded_file)\n\u001b[0;32m     10\u001b[0m        doc_text \u001b[38;5;241m=\u001b[39m \u001b[38;5;124m\"\u001b[39m\u001b[38;5;124m\"\u001b[39m\n",
      "\u001b[1;31mAttributeError\u001b[0m: 'PyPDFLoader' object has no attribute 'name'"
     ]
    }
   ],
   "source": [
    "from langchain_community.document_loaders import PyPDFLoader\n",
    "\n",
    "loader = PyPDFLoader(\"examples/GS - Lampiran B.1 Lingkup kerja Platform Machine Learning.pdf\")\n",
    "pages = loader.load_and_split()\n",
    "\n",
    "def get_document_text(uploaded_file):\n",
    "   docs = []\n",
    "   if uploaded_file.name.lower().endswith('pdf'):\n",
    "       pdf_reader = PdfReader(uploaded_file)\n",
    "       doc_text = \"\"\n",
    "       for num, page in enumerate(pdf_reader.pages):\n",
    "          page = page.extract_text()\n",
    "          doc = Document(page_content=page.extract_text(), metadata={'page':i})\n",
    "          docs.append(doc)\n",
    "    \n",
    "   else:\n",
    "       # assume text\n",
    "       doc_text = uploaded_file.read().decode()\n",
    "       docs.append(doc_text)\n",
    "\n",
    "   return docs\n",
    "\n",
    "testing = get_document_text(pages)\n",
    "print(testing)"
   ]
  },
  {
   "cell_type": "markdown",
   "metadata": {},
   "source": [
    "loading CSV Files"
   ]
  },
  {
   "cell_type": "code",
   "execution_count": 12,
   "metadata": {},
   "outputs": [
    {
     "data": {
      "text/plain": [
       "[Document(page_content='Contractor: BOB PT. BUMI SIAK PUSAKO - PERTAMINA HULU\\nJAN: 8,514\\nFEB: 8,911\\nMAR: 8,621\\nAPR: 8,633\\nMAY: 8,686\\nJUN: 8,483\\nJUL: 8,436\\nAUG: 8,448\\nSEP: 8,224\\nOCT: 8,180\\nNOV: 8,625\\nDEC: 8,520', metadata={'source': 'examples/2021_oil_condensat_contractor_production_BPD (1).csv', 'row': 0}),\n",
       " Document(page_content='Contractor: BP BERAU LTD\\nJAN: 5,831\\nFEB: 5,703\\nMAR: 5,322\\nAPR: 5,287\\nMAY: 4,262\\nJUN: 6,090\\nJUL: 5,915\\nAUG: 5,873\\nSEP: 4,812\\nOCT: 5,339\\nNOV: 5,855\\nDEC: 5,748', metadata={'source': 'examples/2021_oil_condensat_contractor_production_BPD (1).csv', 'row': 1}),\n",
       " Document(page_content='Contractor: CAMAR RESOURCES CANADA INC.\\nJAN: 9\\nFEB: 0\\nMAR: 36\\nAPR: 311\\nMAY: 206\\nJUN: 177\\nJUL: 0\\nAUG: 0\\nSEP: 0\\nOCT: 0\\nNOV: 0\\nDEC: 0', metadata={'source': 'examples/2021_oil_condensat_contractor_production_BPD (1).csv', 'row': 2}),\n",
       " Document(page_content='Contractor: CHEVRON MAKASSAR LTD\\nJAN: 1,057\\nFEB: 1,235\\nMAR: 1,229\\nAPR: 1,229\\nMAY: 1,054\\nJUN: 931\\nJUL: 886\\nAUG: 848\\nSEP: 953\\nOCT: 861\\nNOV: 1,111\\nDEC: 1,166', metadata={'source': 'examples/2021_oil_condensat_contractor_production_BPD (1).csv', 'row': 3}),\n",
       " Document(page_content='Contractor: CHEVRON RAPAK LTD.\\nJAN: 726\\nFEB: 710\\nMAR: 708\\nAPR: 677\\nMAY: 677\\nJUN: 660\\nJUL: 655\\nAUG: 605\\nSEP: 578\\nOCT: 545\\nNOV: 583\\nDEC: 562', metadata={'source': 'examples/2021_oil_condensat_contractor_production_BPD (1).csv', 'row': 4}),\n",
       " Document(page_content='Contractor: CITIC SERAM ENERGY LTD\\nJAN: 1,517\\nFEB: 1,521\\nMAR: 1,522\\nAPR: 1,543\\nMAY: 1,508\\nJUN: 1,534\\nJUL: 1,484\\nAUG: 1,535\\nSEP: 1,408\\nOCT: 1,344\\nNOV: 1,490\\nDEC: 1,441', metadata={'source': 'examples/2021_oil_condensat_contractor_production_BPD (1).csv', 'row': 5}),\n",
       " Document(page_content='Contractor: PT PERTAMINA HULU ENERGI OSES\\nJAN: 24,003\\nFEB: 23,580\\nMAR: 24,463\\nAPR: 26,057\\nMAY: 25,365\\nJUN: 24,020\\nJUL: 22,708\\nAUG: 23,894\\nSEP: 23,031\\nOCT: 25,014\\nNOV: 24,978\\nDEC: 24,888', metadata={'source': 'examples/2021_oil_condensat_contractor_production_BPD (1).csv', 'row': 6}),\n",
       " Document(page_content='Contractor: CONOCOPHILLIPS (GRISSIK) LTD.\\nJAN: 5,990\\nFEB: 5,428\\nMAR: 10,330\\nAPR: 6,763\\nMAY: 3,805\\nJUN: 5,642\\nJUL: 9,253\\nAUG: 8,164\\nSEP: 7,322\\nOCT: 5,985\\nNOV: 6,693\\nDEC: 7,588', metadata={'source': 'examples/2021_oil_condensat_contractor_production_BPD (1).csv', 'row': 7}),\n",
       " Document(page_content='Contractor: ENERGI MEGA PERSADA MALACCA STRAIT S.A.\\nJAN: 4,533\\nFEB: 4,744\\nMAR: 4,650\\nAPR: 4,470\\nMAY: 4,531\\nJUN: 4,945\\nJUL: 4,687\\nAUG: 4,456\\nSEP: 4,796\\nOCT: 4,882\\nNOV: 5,144\\nDEC: 5,189', metadata={'source': 'examples/2021_oil_condensat_contractor_production_BPD (1).csv', 'row': 8}),\n",
       " Document(page_content='Contractor: ENERGY EQUITY EPIC (SENGKANG) PTY. LTD.\\nJAN: 1\\nFEB: 1\\nMAR: 1\\nAPR: 0\\nMAY: 2\\nJUN: 0\\nJUL: 0\\nAUG: 1\\nSEP: 1\\nOCT: 1\\nNOV: 1\\nDEC: 1', metadata={'source': 'examples/2021_oil_condensat_contractor_production_BPD (1).csv', 'row': 9}),\n",
       " Document(page_content='Contractor: ENI MUARA BAKAU B.V.\\nJAN: 690\\nFEB: 1,474\\nMAR: 1,533\\nAPR: 1,174\\nMAY: 1,185\\nJUN: 1,206\\nJUL: 1,130\\nAUG: 1,143\\nSEP: 1,127\\nOCT: 1,117\\nNOV: 1,065\\nDEC: 947', metadata={'source': 'examples/2021_oil_condensat_contractor_production_BPD (1).csv', 'row': 10}),\n",
       " Document(page_content='Contractor: HUSKY-CNOOC MADURA LTD.\\nJAN: 6,758\\nFEB: 6,671\\nMAR: 5,940\\nAPR: 5,283\\nMAY: 6,275\\nJUN: 7,122\\nJUL: 7,075\\nAUG: 6,949\\nSEP: 6,838\\nOCT: 6,511\\nNOV: 6,787\\nDEC: 6,909', metadata={'source': 'examples/2021_oil_condensat_contractor_production_BPD (1).csv', 'row': 11}),\n",
       " Document(page_content='Contractor: PT PERTAMINA HULU ENERGI RAJA TEMPIRAI\\nJAN: 368\\nFEB: 332\\nMAR: 317\\nAPR: 297\\nMAY: 194\\nJUN: 192\\nJUL: 298\\nAUG: 329\\nSEP: 327\\nOCT: 253\\nNOV: 270\\nDEC: 285', metadata={'source': 'examples/2021_oil_condensat_contractor_production_BPD (1).csv', 'row': 12}),\n",
       " Document(page_content='Contractor: JOB PERTAMINA - MEDCO TOMORI SULAWESI LTD\\nJAN: 7,870\\nFEB: 7,718\\nMAR: 7,373\\nAPR: 7,619\\nMAY: 6,602\\nJUN: 7,606\\nJUL: 7,675\\nAUG: 7,772\\nSEP: 879\\nOCT: 7,319\\nNOV: 6,377\\nDEC: 7,986', metadata={'source': 'examples/2021_oil_condensat_contractor_production_BPD (1).csv', 'row': 13}),\n",
       " Document(page_content='Contractor: PETROGAS (ISLAND) LTD.\\nJAN: 788\\nFEB: 771\\nMAR: 705\\nAPR: 725\\nMAY: 720\\nJUN: 733\\nJUL: 878\\nAUG: 833\\nSEP: 867\\nOCT: 822\\nNOV: 810\\nDEC: 832', metadata={'source': 'examples/2021_oil_condensat_contractor_production_BPD (1).csv', 'row': 14}),\n",
       " Document(page_content='Contractor: KALREZ PETROLEUM (SERAM) LTD\\nJAN: 222\\nFEB: 218\\nMAR: 210\\nAPR: 203\\nMAY: 201\\nJUN: 211\\nJUL: 201\\nAUG: 201\\nSEP: 189\\nOCT: 211\\nNOV: 214\\nDEC: 213', metadata={'source': 'examples/2021_oil_condensat_contractor_production_BPD (1).csv', 'row': 15}),\n",
       " Document(page_content='Contractor: KANGEAN ENERGI INDONESIA\\nJAN: 63\\nFEB: 69\\nMAR: 78\\nAPR: 72\\nMAY: 69\\nJUN: 61\\nJUL: 63\\nAUG: 67\\nSEP: 65\\nOCT: 62\\nNOV: 46\\nDEC: 57', metadata={'source': 'examples/2021_oil_condensat_contractor_production_BPD (1).csv', 'row': 16}),\n",
       " Document(page_content='Contractor: MINARAK BRANTAS GAS INC.\\nJAN: 0\\nFEB: 0\\nMAR: 0\\nAPR: 0\\nMAY: 0\\nJUN: 0\\nJUL: 0\\nAUG: 0\\nSEP: 0\\nOCT: 0\\nNOV: 0\\nDEC: 0', metadata={'source': 'examples/2021_oil_condensat_contractor_production_BPD (1).csv', 'row': 17}),\n",
       " Document(page_content='Contractor: MANDALA ENERGY LEMANG PTE. LTD.\\nJAN: 0\\nFEB: 0\\nMAR: 0\\nAPR: 0\\nMAY: 0\\nJUN: 0\\nJUL: 0\\nAUG: 0\\nSEP: 0\\nOCT: 0\\nNOV: 0\\nDEC: 0', metadata={'source': 'examples/2021_oil_condensat_contractor_production_BPD (1).csv', 'row': 18}),\n",
       " Document(page_content='Contractor: MEDCO E & P NATUNA\\nJAN: 16,479\\nFEB: 16,176\\nMAR: 15,865\\nAPR: 15,158\\nMAY: 13,433\\nJUN: 12,855\\nJUL: 12,471\\nAUG: 14,055\\nSEP: 12,941\\nOCT: 12,489\\nNOV: 11,490\\nDEC: 11,325', metadata={'source': 'examples/2021_oil_condensat_contractor_production_BPD (1).csv', 'row': 19}),\n",
       " Document(page_content='Contractor: MOBIL CEPU LTD\\nJAN: 217,068\\nFEB: 213,604\\nMAR: 209,117\\nAPR: 204,462\\nMAY: 200,938\\nJUN: 202,002\\nJUL: 204,642\\nAUG: 207,759\\nSEP: 199,684\\nOCT: 193,381\\nNOV: 191,628\\nDEC: 191,034', metadata={'source': 'examples/2021_oil_condensat_contractor_production_BPD (1).csv', 'row': 20}),\n",
       " Document(page_content='Contractor: MONTDOR (SALAWATI) LTD.\\nJAN: 30\\nFEB: 22\\nMAR: 29\\nAPR: 22\\nMAY: 32\\nJUN: 21\\nJUL: 32\\nAUG: 20\\nSEP: 30\\nOCT: 19\\nNOV: 30\\nDEC: 19', metadata={'source': 'examples/2021_oil_condensat_contractor_production_BPD (1).csv', 'row': 21}),\n",
       " Document(page_content='Contractor: MONTDOR OIL TUNGKAL LTD\\nJAN: 739\\nFEB: 751\\nMAR: 666\\nAPR: 689\\nMAY: 759\\nJUN: 719\\nJUL: 675\\nAUG: 658\\nSEP: 630\\nOCT: 647\\nNOV: 596\\nDEC: 496', metadata={'source': 'examples/2021_oil_condensat_contractor_production_BPD (1).csv', 'row': 22}),\n",
       " Document(page_content='Contractor: PEARL OIL (SEBUKU) LTD.\\nJAN: 21\\nFEB: 36\\nMAR: 34\\nAPR: 27\\nMAY: 31\\nJUN: 35\\nJUL: 25\\nAUG: 27\\nSEP: 15\\nOCT: 20\\nNOV: 19\\nDEC: 5', metadata={'source': 'examples/2021_oil_condensat_contractor_production_BPD (1).csv', 'row': 23}),\n",
       " Document(page_content='Contractor: OPHIR INDONESIA (BANGKANAI) LIMITED.\\nJAN: 489\\nFEB: 463\\nMAR: 493\\nAPR: 489\\nMAY: 478\\nJUN: 483\\nJUL: 447\\nAUG: 478\\nSEP: 477\\nOCT: 470\\nNOV: 471\\nDEC: 473', metadata={'source': 'examples/2021_oil_condensat_contractor_production_BPD (1).csv', 'row': 24}),\n",
       " Document(page_content='Contractor: PERTAMINA HULU ENERGI KAMPAR\\nJAN: 886\\nFEB: 882\\nMAR: 805\\nAPR: 733\\nMAY: 819\\nJUN: 912\\nJUL: 1,005\\nAUG: 933\\nSEP: 862\\nOCT: 970\\nNOV: 985\\nDEC: 923', metadata={'source': 'examples/2021_oil_condensat_contractor_production_BPD (1).csv', 'row': 25}),\n",
       " Document(page_content='Contractor: PERTAMINA HULU ENERGI ONWJ LTD\\nJAN: 29,470\\nFEB: 29,276\\nMAR: 29,257\\nAPR: 25,292\\nMAY: 26,302\\nJUN: 26,515\\nJUL: 24,234\\nAUG: 25,831\\nSEP: 27,397\\nOCT: 28,040\\nNOV: 26,199\\nDEC: 27,921', metadata={'source': 'examples/2021_oil_condensat_contractor_production_BPD (1).csv', 'row': 26}),\n",
       " Document(page_content='Contractor: PERTAMINA HULU ENERGI SIAK\\nJAN: 1,663\\nFEB: 1,647\\nMAR: 1,717\\nAPR: 1,802\\nMAY: 1,739\\nJUN: 1,877\\nJUL: 1,777\\nAUG: 1,670\\nSEP: 1,590\\nOCT: 1,594\\nNOV: 1,536\\nDEC: 1,498', metadata={'source': 'examples/2021_oil_condensat_contractor_production_BPD (1).csv', 'row': 27}),\n",
       " Document(page_content='Contractor: PERTAMINA HULU ENERGI WEST MADURA OFFSHORE\\nJAN: 2,743\\nFEB: 2,660\\nMAR: 2,554\\nAPR: 2,468\\nMAY: 2,416\\nJUN: 2,450\\nJUL: 2,362\\nAUG: 2,408\\nSEP: 2,016\\nOCT: 1,976\\nNOV: 1,968\\nDEC: 1,935', metadata={'source': 'examples/2021_oil_condensat_contractor_production_BPD (1).csv', 'row': 28}),\n",
       " Document(page_content='Contractor: PETROCHINA INTERNATIONAL BANGKO LTD\\nJAN: 171\\nFEB: 202\\nMAR: 166\\nAPR: 167\\nMAY: 146\\nJUN: 152\\nJUL: 142\\nAUG: 129\\nSEP: 129\\nOCT: 133\\nNOV: 135\\nDEC: 123', metadata={'source': 'examples/2021_oil_condensat_contractor_production_BPD (1).csv', 'row': 29}),\n",
       " Document(page_content='Contractor: PETROCHINA INTERNATIONAL JABUNG LTD\\nJAN: 15,060\\nFEB: 14,322\\nMAR: 14,857\\nAPR: 14,960\\nMAY: 15,040\\nJUN: 14,930\\nJUL: 15,759\\nAUG: 15,773\\nSEP: 16,263\\nOCT: 16,161\\nNOV: 16,154\\nDEC: 15,892', metadata={'source': 'examples/2021_oil_condensat_contractor_production_BPD (1).csv', 'row': 30}),\n",
       " Document(page_content='Contractor: PETROGAS (BASIN) LTD\\nJAN: 4,525\\nFEB: 4,578\\nMAR: 4,518\\nAPR: 4,681\\nMAY: 4,562\\nJUN: 4,555\\nJUL: 4,779\\nAUG: 4,457\\nSEP: 4,227\\nOCT: 4,302\\nNOV: 4,335\\nDEC: 4,235', metadata={'source': 'examples/2021_oil_condensat_contractor_production_BPD (1).csv', 'row': 31}),\n",
       " Document(page_content='Contractor: PETRONAS CARIGALI (KETAPANG) LTD\\nJAN: 8,077\\nFEB: 7,543\\nMAR: 7,755\\nAPR: 7,430\\nMAY: 7,488\\nJUN: 6,351\\nJUL: 7,114\\nAUG: 6,855\\nSEP: 6,731\\nOCT: 6,507\\nNOV: 6,313\\nDEC: 6,442', metadata={'source': 'examples/2021_oil_condensat_contractor_production_BPD (1).csv', 'row': 32}),\n",
       " Document(page_content='Contractor: PHE OGAN KOMERING\\nJAN: 1,277\\nFEB: 1,224\\nMAR: 1,336\\nAPR: 1,612\\nMAY: 1,765\\nJUN: 1,765\\nJUL: 1,728\\nAUG: 1,727\\nSEP: 1,666\\nOCT: 1,683\\nNOV: 1,666\\nDEC: 1,597', metadata={'source': 'examples/2021_oil_condensat_contractor_production_BPD (1).csv', 'row': 33}),\n",
       " Document(page_content='Contractor: PHE TUBAN EAST JAVA\\nJAN: 1,407\\nFEB: 1,336\\nMAR: 1,224\\nAPR: 1,193\\nMAY: 976\\nJUN: 973\\nJUL: 863\\nAUG: 1,085\\nSEP: 952\\nOCT: 1,015\\nNOV: 984\\nDEC: 797', metadata={'source': 'examples/2021_oil_condensat_contractor_production_BPD (1).csv', 'row': 34}),\n",
       " Document(page_content='Contractor: PHM\\nJAN: 30,342\\nFEB: 28,965\\nMAR: 25,588\\nAPR: 25,860\\nMAY: 24,840\\nJUN: 26,016\\nJUL: 24,434\\nAUG: 22,137\\nSEP: 23,899\\nOCT: 20,398\\nNOV: 24,032\\nDEC: 22,948', metadata={'source': 'examples/2021_oil_condensat_contractor_production_BPD (1).csv', 'row': 35}),\n",
       " Document(page_content='Contractor: PREMIER OIL INDONESIA\\nJAN: 1,852\\nFEB: 1,946\\nMAR: 1,910\\nAPR: 1,739\\nMAY: 1,797\\nJUN: 1,168\\nJUL: 1,047\\nAUG: 1,802\\nSEP: 1,719\\nOCT: 1,655\\nNOV: 1,382\\nDEC: 1,563', metadata={'source': 'examples/2021_oil_condensat_contractor_production_BPD (1).csv', 'row': 36}),\n",
       " Document(page_content='Contractor: PT PERTAMINA HULU ENERGI JAMBI MERANG\\nJAN: 4,895\\nFEB: 4,882\\nMAR: 4,796\\nAPR: 4,678\\nMAY: 4,780\\nJUN: 4,638\\nJUL: 4,556\\nAUG: 4,840\\nSEP: 3,880\\nOCT: 3,222\\nNOV: 4,437\\nDEC: 4,455', metadata={'source': 'examples/2021_oil_condensat_contractor_production_BPD (1).csv', 'row': 37}),\n",
       " Document(page_content='Contractor: PT PERTAMINA HULU KALIMANTAN TIMUR\\nJAN: 8,341\\nFEB: 8,418\\nMAR: 9,547\\nAPR: 9,173\\nMAY: 9,387\\nJUN: 9,691\\nJUL: 9,366\\nAUG: 9,183\\nSEP: 9,609\\nOCT: 9,291\\nNOV: 9,153\\nDEC: 10,404', metadata={'source': 'examples/2021_oil_condensat_contractor_production_BPD (1).csv', 'row': 38}),\n",
       " Document(page_content='Contractor: PT PERTAMINA HULU SANGA SANGA\\nJAN: 11,887\\nFEB: 12,042\\nMAR: 11,607\\nAPR: 11,417\\nMAY: 11,622\\nJUN: 12,173\\nJUL: 12,547\\nAUG: 13,089\\nSEP: 12,902\\nOCT: 12,810\\nNOV: 11,807\\nDEC: 12,948', metadata={'source': 'examples/2021_oil_condensat_contractor_production_BPD (1).csv', 'row': 39}),\n",
       " Document(page_content='Contractor: PT PERTAMINA HULU ROKAN\\nJAN: 163827\\nFEB: 161572\\nMAR: 163294\\nAPR: 159093\\nMAY: 157828\\nJUN: 158319\\nJUL: 159516\\nAUG: 158857\\nSEP: 157965\\nOCT: 159084\\nNOV: 161921\\nDEC: 160007', metadata={'source': 'examples/2021_oil_condensat_contractor_production_BPD (1).csv', 'row': 40}),\n",
       " Document(page_content='Contractor: PT. ENERGI MEGA PERSADA TONGA\\nJAN: 0\\nFEB: 0\\nMAR: 0\\nAPR: 0\\nMAY: 0\\nJUN: 0\\nJUL: 0\\nAUG: 0\\nSEP: 0\\nOCT: 0\\nNOV: 0\\nDEC: 0', metadata={'source': 'examples/2021_oil_condensat_contractor_production_BPD (1).csv', 'row': 41}),\n",
       " Document(page_content='Contractor: PT. PERTAMINA EP\\nJAN: 73879\\nFEB: 73860\\nMAR: 72997\\nAPR: 72274\\nMAY: 71952\\nJUN: 70881\\nJUL: 69894\\nAUG: 68534\\nSEP: 69887\\nOCT: 70932\\nNOV: 69958\\nDEC: 71739', metadata={'source': 'examples/2021_oil_condensat_contractor_production_BPD (1).csv', 'row': 42}),\n",
       " Document(page_content='Contractor: PT. SARANA PEMBANGUNAN RIAU LANGGAK\\nJAN: 534\\nFEB: 530\\nMAR: 534\\nAPR: 527\\nMAY: 536\\nJUN: 529\\nJUL: 529\\nAUG: 509\\nSEP: 501\\nOCT: 504\\nNOV: 485\\nDEC: 485', metadata={'source': 'examples/2021_oil_condensat_contractor_production_BPD (1).csv', 'row': 43}),\n",
       " Document(page_content='Contractor: PT. SELERAYA MERANGIN DUA\\nJAN: 2440\\nFEB: 2346\\nMAR: 2308\\nAPR: 2782\\nMAY: 2790\\nJUN: 2910\\nJUL: 3147\\nAUG: 3086\\nSEP: 3438\\nOCT: 3455\\nNOV: 3422\\nDEC: 3208', metadata={'source': 'examples/2021_oil_condensat_contractor_production_BPD (1).csv', 'row': 44}),\n",
       " Document(page_content='Contractor: PT.MEDCO E&P INDONESIA\\nJAN: 4077\\nFEB: 3871\\nMAR: 3760\\nAPR: 3350\\nMAY: 3478\\nJUN: 3348\\nJUL: 3381\\nAUG: 3342\\nSEP: 3100\\nOCT: 3299\\nNOV: 3200\\nDEC: 3130', metadata={'source': 'examples/2021_oil_condensat_contractor_production_BPD (1).csv', 'row': 45}),\n",
       " Document(page_content='Contractor: PT.MEDCO E&P RIMAU\\nJAN: 6301\\nFEB: 6367\\nMAR: 6414\\nAPR: 6309\\nMAY: 6161\\nJUN: 5997\\nJUL: 5915\\nAUG: 5847\\nSEP: 5699\\nOCT: 5798\\nNOV: 5557\\nDEC: 5682', metadata={'source': 'examples/2021_oil_condensat_contractor_production_BPD (1).csv', 'row': 46}),\n",
       " Document(page_content='Contractor: PT.MEDCO E&P TARAKAN\\nJAN: 1014\\nFEB: 1033\\nMAR: 1007\\nAPR: 1032\\nMAY: 1026\\nJUN: 1006\\nJUL: 1053\\nAUG: 874\\nSEP: 886\\nOCT: 913\\nNOV: 737\\nDEC: 857', metadata={'source': 'examples/2021_oil_condensat_contractor_production_BPD (1).csv', 'row': 47}),\n",
       " Document(page_content='Contractor: SAKA INDONESIA PANGKAH LTD\\nJAN: 4093\\nFEB: 4019\\nMAR: 3319\\nAPR: 3476\\nMAY: 4080\\nJUN: 4150\\nJUL: 4123\\nAUG: 5321\\nSEP: 5097\\nOCT: 6551\\nNOV: 6554\\nDEC: 8518', metadata={'source': 'examples/2021_oil_condensat_contractor_production_BPD (1).csv', 'row': 48}),\n",
       " Document(page_content='Contractor: OPHIR INDONESIA (SAMPANG) PTY. LTD.\\nJAN: 129\\nFEB: 140\\nMAR: 132\\nAPR: 129\\nMAY: 117\\nJUN: 108\\nJUL: 137\\nAUG: 139\\nSEP: 137\\nOCT: 132\\nNOV: 137\\nDEC: 126', metadata={'source': 'examples/2021_oil_condensat_contractor_production_BPD (1).csv', 'row': 49}),\n",
       " Document(page_content='Contractor: STAR ENERGY LTD\\nJAN: 1449\\nFEB: 1327\\nMAR: 1391\\nAPR: 1348\\nMAY: 1361\\nJUN: 1296\\nJUL: 1348\\nAUG: 1169\\nSEP: 1094\\nOCT: 885\\nNOV: 884\\nDEC: 1032', metadata={'source': 'examples/2021_oil_condensat_contractor_production_BPD (1).csv', 'row': 50}),\n",
       " Document(page_content='Contractor: TATELY N.V.\\nJAN: 131\\nFEB: 132\\nMAR: 131\\nAPR: 136\\nMAY: 131\\nJUN: 130\\nJUL: 103\\nAUG: 154\\nSEP: 157\\nOCT: 247\\nNOV: 201\\nDEC: 57', metadata={'source': 'examples/2021_oil_condensat_contractor_production_BPD (1).csv', 'row': 51}),\n",
       " Document(page_content='Contractor: TIARA BUMI PETROLEUM\\nJAN: 112\\nFEB: 102\\nMAR: 102\\nAPR: 101\\nMAY: 99\\nJUN: 71\\nJUL: 81\\nAUG: 82\\nSEP: 149\\nOCT: 146\\nNOV: 143\\nDEC: 151', metadata={'source': 'examples/2021_oil_condensat_contractor_production_BPD (1).csv', 'row': 52}),\n",
       " Document(page_content='Contractor: PT TROPIK ENERGI PANDAN\\nJAN: 171\\nFEB: 169\\nMAR: 156\\nAPR: 120\\nMAY: 90\\nJUN: 137\\nJUL: 95\\nAUG: 70\\nSEP: 66\\nOCT: 54\\nNOV: 45\\nDEC: 27', metadata={'source': 'examples/2021_oil_condensat_contractor_production_BPD (1).csv', 'row': 53}),\n",
       " Document(page_content='Contractor: PT MEDCO E&P MALAKA\\nJAN: 976\\nFEB: 961\\nMAR: 762\\nAPR: 26\\nMAY: 452\\nJUN: 376\\nJUL: 1195\\nAUG: 1435\\nSEP: 1480\\nOCT: 1392\\nNOV: 1535\\nDEC: 1525', metadata={'source': 'examples/2021_oil_condensat_contractor_production_BPD (1).csv', 'row': 54}),\n",
       " Document(page_content='Contractor: PT ODIRA ENERGY KARANG AGUNG\\nJAN: 222\\nFEB: 349\\nMAR: 309\\nAPR: 380\\nMAY: 420\\nJUN: 356\\nJUL: 411\\nAUG: 346\\nSEP: 422\\nOCT: 364\\nNOV: 373\\nDEC: 343', metadata={'source': 'examples/2021_oil_condensat_contractor_production_BPD (1).csv', 'row': 55}),\n",
       " Document(page_content='Contractor: PT SELE RAYA BELIDA\\nJAN: 23\\nFEB: 27\\nMAR: 28\\nAPR: 38\\nMAY: 30\\nJUN: 33\\nJUL: 32\\nAUG: 35\\nSEP: 34\\nOCT: 30\\nNOV: 29\\nDEC: 28', metadata={'source': 'examples/2021_oil_condensat_contractor_production_BPD (1).csv', 'row': 56}),\n",
       " Document(page_content='Contractor: PT PERTAMINA HULU ENERGI NORTH SUMATERA OFFSHORE\\nJAN: 41\\nFEB: 14\\nMAR: 0\\nAPR: 0\\nMAY: 2\\nJUN: 296\\nJUL: 21\\nAUG: 0\\nSEP: 0\\nOCT: 0\\nNOV: 158\\nDEC: 0', metadata={'source': 'examples/2021_oil_condensat_contractor_production_BPD (1).csv', 'row': 57}),\n",
       " Document(page_content='Contractor: PT PEMA GLOBAL ENERGI\\nJAN: 685\\nFEB: 747\\nMAR: 906\\nAPR: 1157\\nMAY: 885\\nJUN: 883\\nJUL: 1102\\nAUG: 1266\\nSEP: 1196\\nOCT: 779\\nNOV: 313\\nDEC: 816', metadata={'source': 'examples/2021_oil_condensat_contractor_production_BPD (1).csv', 'row': 58}),\n",
       " Document(page_content='Contractor: PT PERTAMINA HULU ENERGI RANDUGUNTING\\nJAN: 7\\nFEB: 15\\nMAR: 8\\nAPR: 8\\nMAY: 6\\nJUN: 13\\nJUL: 6\\nAUG: 5\\nSEP: 12\\nOCT: 10\\nNOV: 8\\nDEC: 1', metadata={'source': 'examples/2021_oil_condensat_contractor_production_BPD (1).csv', 'row': 59}),\n",
       " Document(page_content='Contractor: PT PERTAMINA EP CEPU ADK\\nJAN: 0\\nFEB: 0\\nMAR: 0\\nAPR: 0\\nMAY: 0\\nJUN: 0\\nJUL: 0\\nAUG: 0\\nSEP: 0\\nOCT: 0\\nNOV: 0\\nDEC: 0', metadata={'source': 'examples/2021_oil_condensat_contractor_production_BPD (1).csv', 'row': 60}),\n",
       " Document(page_content='Contractor: PT SUMATRA GLOBAL ENERGI\\nJAN: 0\\nFEB: 0\\nMAR: 0\\nAPR: 0\\nMAY: 0\\nJUN: 0\\nJUL: 0\\nAUG: 0\\nSEP: 0\\nOCT: 0\\nNOV: 0\\nDEC: 0', metadata={'source': 'examples/2021_oil_condensat_contractor_production_BPD (1).csv', 'row': 61}),\n",
       " Document(page_content='Contractor: EMP GEBANG LTD.\\nJAN: 0\\nFEB: 0\\nMAR: 0\\nAPR: 0\\nMAY: 0\\nJUN: 0\\nJUL: 0\\nAUG: 0\\nSEP: 0\\nOCT: 0\\nNOV: 0\\nDEC: 0', metadata={'source': 'examples/2021_oil_condensat_contractor_production_BPD (1).csv', 'row': 62}),\n",
       " Document(page_content='Contractor: ENERGI MEGA PERSADA BENTU LTD\\nJAN: 0\\nFEB: 0\\nMAR: 0\\nAPR: 0\\nMAY: 0\\nJUN: 0\\nJUL: 0\\nAUG: 0\\nSEP: 0\\nOCT: 0\\nNOV: 0\\nDEC: 0', metadata={'source': 'examples/2021_oil_condensat_contractor_production_BPD (1).csv', 'row': 63}),\n",
       " Document(page_content='Contractor: JOB PERTAMINA MEDCO SIMENGGARIS\\nJAN: 0\\nFEB: 0\\nMAR: 0\\nAPR: 0\\nMAY: 0\\nJUN: 0\\nJUL: 0\\nAUG: 0\\nSEP: 0\\nOCT: 0\\nNOV: 0\\nDEC: 0', metadata={'source': 'examples/2021_oil_condensat_contractor_production_BPD (1).csv', 'row': 64}),\n",
       " Document(page_content='Contractor: MANHATTAN KALIMANTAN INVESTMENT PTE. LTD.\\nJAN: 0\\nFEB: 0\\nMAR: 0\\nAPR: 0\\nMAY: 0\\nJUN: 0\\nJUL: 0\\nAUG: 0\\nSEP: 0\\nOCT: 0\\nNOV: 0\\nDEC: 0', metadata={'source': 'examples/2021_oil_condensat_contractor_production_BPD (1).csv', 'row': 65}),\n",
       " Document(page_content='Contractor: STARBORN ENERGY BONTANG PTE. LTD.\\nJAN: 0\\nFEB: 0\\nMAR: 0\\nAPR: 0\\nMAY: 0\\nJUN: 0\\nJUL: 0\\nAUG: 0\\nSEP: 0\\nOCT: 0\\nNOV: 0\\nDEC: 0', metadata={'source': 'examples/2021_oil_condensat_contractor_production_BPD (1).csv', 'row': 66}),\n",
       " Document(page_content='Contractor: AWE (NORTHWEST NATUNA) PTE. LTD.\\nJAN: 0\\nFEB: 0\\nMAR: 0\\nAPR: 0\\nMAY: 0\\nJUN: 0\\nJUL: 0\\nAUG: 0\\nSEP: 0\\nOCT: 0\\nNOV: 0\\nDEC: 0', metadata={'source': 'examples/2021_oil_condensat_contractor_production_BPD (1).csv', 'row': 67}),\n",
       " Document(page_content='Contractor: TRIANGLE PASE INC.\\nJAN: 0\\nFEB: 0\\nMAR: 0\\nAPR: 0\\nMAY: 0\\nJUN: 0\\nJUL: 0\\nAUG: 0\\nSEP: 0\\nOCT: 0\\nNOV: 0\\nDEC: 0', metadata={'source': 'examples/2021_oil_condensat_contractor_production_BPD (1).csv', 'row': 68}),\n",
       " Document(page_content='Contractor: OPHIR INDONESIA (MADURA OFFSHORE) PTY. LTD.\\nJAN: 0\\nFEB: 0\\nMAR: 0\\nAPR: 0\\nMAY: 0\\nJUN: 0\\nJUL: 0\\nAUG: 0\\nSEP: 0\\nOCT: 0\\nNOV: 0\\nDEC: 0', metadata={'source': 'examples/2021_oil_condensat_contractor_production_BPD (1).csv', 'row': 69}),\n",
       " Document(page_content='Contractor: PT.MEDCO E&P LEMATANG\\nJAN: 0\\nFEB: 0\\nMAR: 0\\nAPR: 0\\nMAY: 0\\nJUN: 0\\nJUL: 0\\nAUG: 0\\nSEP: 0\\nOCT: 0\\nNOV: 0\\nDEC: 0', metadata={'source': 'examples/2021_oil_condensat_contractor_production_BPD (1).csv', 'row': 70}),\n",
       " Document(page_content='Contractor: PERUSDA BENUO TAKA\\nJAN: 0\\nFEB: 0\\nMAR: 0\\nAPR: 0\\nMAY: 0\\nJUN: 0\\nJUL: 0\\nAUG: 0\\nSEP: 0\\nOCT: 0\\nNOV: 0\\nDEC: 0', metadata={'source': 'examples/2021_oil_condensat_contractor_production_BPD (1).csv', 'row': 71}),\n",
       " Document(page_content='Contractor: PT MANDIRI PANCA USAHA\\nJAN: 0\\nFEB: 0\\nMAR: 0\\nAPR: 0\\nMAY: 0\\nJUN: 0\\nJUL: 0\\nAUG: 0\\nSEP: 0\\nOCT: 0\\nNOV: 0\\nDEC: 0', metadata={'source': 'examples/2021_oil_condensat_contractor_production_BPD (1).csv', 'row': 72}),\n",
       " Document(page_content='Contractor: ENI EAST SEPINGGAN LTD.\\nJAN: 0\\nFEB: 0\\nMAR: 0\\nAPR: 0\\nMAY: 0\\nJUN: 0\\nJUL: 0\\nAUG: 0\\nSEP: 0\\nOCT: 0\\nNOV: 0\\nDEC: 0', metadata={'source': 'examples/2021_oil_condensat_contractor_production_BPD (1).csv', 'row': 73}),\n",
       " Document(page_content='Contractor: PACIFIC OIL & GAS (KISARAN) LTD.\\nJAN: 0\\nFEB: 0\\nMAR: 0\\nAPR: 0\\nMAY: 0\\nJUN: 0\\nJUL: 0\\nAUG: 0\\nSEP: 0\\nOCT: 0\\nNOV: 0\\nDEC: 0', metadata={'source': 'examples/2021_oil_condensat_contractor_production_BPD (1).csv', 'row': 74}),\n",
       " Document(page_content='Contractor: PT SUMATERA PERSADA ENERGI\\nJAN: 0\\nFEB: 0\\nMAR: 0\\nAPR: 0\\nMAY: 0\\nJUN: 0\\nJUL: 0\\nAUG: 0\\nSEP: 0\\nOCT: 0\\nNOV: 0\\nDEC: 0', metadata={'source': 'examples/2021_oil_condensat_contractor_production_BPD (1).csv', 'row': 75}),\n",
       " Document(page_content='Contractor: SAKA ENERGI MURIAH LTD.\\nJAN: 0\\nFEB: 0\\nMAR: 0\\nAPR: 0\\nMAY: 0\\nJUN: 0\\nJUL: 0\\nAUG: 0\\nSEP: 0\\nOCT: 0\\nNOV: 0\\nDEC: 0', metadata={'source': 'examples/2021_oil_condensat_contractor_production_BPD (1).csv', 'row': 76}),\n",
       " Document(page_content='Contractor: JINDI SOUTH JAMBI B CO. LTD\\nJAN: 0\\nFEB: 0\\nMAR: 0\\nAPR: 0\\nMAY: 0\\nJUN: 9\\nJUL: 38\\nAUG: 0\\nSEP: 135\\nOCT: 80\\nNOV: 64\\nDEC: 75', metadata={'source': 'examples/2021_oil_condensat_contractor_production_BPD (1).csv', 'row': 77}),\n",
       " Document(page_content='Contractor: TEXCAL MAHATO EP LTD.\\nJAN: 265\\nFEB: 678\\nMAR: 1355\\nAPR: 1636\\nMAY: 2154\\nJUN: 2691\\nJUL: 3580\\nAUG: 3566\\nSEP: 3453\\nOCT: 3943\\nNOV: 4069\\nDEC: 4398', metadata={'source': 'examples/2021_oil_condensat_contractor_production_BPD (1).csv', 'row': 78}),\n",
       " Document(page_content='Contractor: PASIR PETROLEUM RESOURCES LTD.\\nJAN: 0\\nFEB: 0\\nMAR: 0\\nAPR: 0\\nMAY: 0\\nJUN: 0\\nJUL: 0\\nAUG: 0\\nSEP: 0\\nOCT: 0\\nNOV: 0\\nDEC: 215', metadata={'source': 'examples/2021_oil_condensat_contractor_production_BPD (1).csv', 'row': 79}),\n",
       " Document(page_content='Contractor: PT PERTAMINA EP CEPU\\nJAN: 0\\nFEB: 0\\nMAR: 0\\nAPR: 0\\nMAY: 0\\nJUN: 0\\nJUL: 0\\nAUG: 0\\nSEP: 0\\nOCT: 0\\nNOV: 0\\nDEC: 0', metadata={'source': 'examples/2021_oil_condensat_contractor_production_BPD (1).csv', 'row': 80})]"
      ]
     },
     "execution_count": 12,
     "metadata": {},
     "output_type": "execute_result"
    }
   ],
   "source": [
    "from langchain_community.document_loaders.csv_loader import CSVLoader\n",
    "loader = CSVLoader(file_path=\"examples/2021_oil_condensat_contractor_production_BPD (1).csv\")\n",
    "docs = loader.load()\n",
    "\n",
    "docs"
   ]
  },
  {
   "cell_type": "markdown",
   "metadata": {},
   "source": [
    "Loading HTML documents"
   ]
  },
  {
   "cell_type": "code",
   "execution_count": 13,
   "metadata": {},
   "outputs": [
    {
     "data": {
      "text/plain": [
       "[Document(page_content='\\n\\n\\n\\n\\n\\n\\n\\n\\n\\n\\n\\n\\n\\n\\n\\n\\n\\n\\n\\n\\n\\n\\n\\nHome | Pertamina\\n\\n\\n\\n\\n\\n\\n\\n\\n\\n\\n\\n\\n\\n\\n\\n\\n\\n\\n\\n\\n\\nKomitmen Net Zero Emission\\n\"Pertamina terus berupaya mendukung langkah pemerintah dan dunia dalam mewujudkan Net Zero Emission pada 2060. Komitmen tersebut diwujudkan melalui program dekarbonisasi bisnis dan pengembangan bisnis baru yang mengusung konsep hijau serta pemanfaatan energi baru terbarukan di Indonesia.\"\\n\\n\\n\\n\\n\\nEnergizing You!\\n\"Pertamina senantiasa menggaungkan semangat transformasi yang berkelanjutan sebagai bagian dari komitmennya untuk merealisasikan visi menjadi perusahaan global energi terdepan serta mendukung terwujudnya kemandirian energi nasional\"\\nVIEW MORE\\n\\n\\n\\n\\n\\nSemangat Perubahan\\n\"Pertamina senantiasa menggaungkan semangat transformasi yang berkelanjutan sebagai bagian dari komitmennya untuk merealisasikan visi menjadi perusahaan global energi terdepan serta mendukung terwujudnya kemandirian energi nasional\"\\nVIEW MORE\\n\\n\\n\\n\\n\\nPertamina Shop\\nPertashop (Pertamina Shop) adalah outlet penjualan Pertamina berskala tertentu yang dipersiapkan untuk melayani kebutuhan konsumen BBM non subsidi, LPG non subsidi, dan produk ritel Pertamina lainnya dengan mengutamakan lokasi pelayanannya di desa atau di kota yang membutuhkan pelayanan produk ritel Pertamina.\\nVIEW MORE\\n\\n\\n\\n\\n\\n\\n\\n\\n\\n\\n\\n\\n\\n\\n\\n\\n\\nMewujudkan Kedaulatan Energi hingga Pelosok Negeri\\n\"Pertamina berfokus pada upaya-upaya untuk memastikan ketersediaan energi nasional yang inklusif berdasarkan prinsip availability, accessibility, affordability, acceptability dan sustainability\"\\n\\nVIEW MORE\\n\\n\\n\\n\\n\\n\\n\\n\\n\\n\\n\\n\\n\\n\\n\\n\\nTentang Kami\\n\\nLebih dari enam dekade menyediakan energi untuk seluruh penjuru negeri dan sejumlah wilayah di luar negeri.\\n\\nVIEW MORE\\n\\n\\n\\n\\n\\n\\n\\n\\n\\n\\n\\n\\n\\n\\nGroup Bisnis Kami\\nPertamina menjalankan bisnis energi yang terintegrasi dari hulu hingga hilir, termasuk pengembangan energi terbarukan untuk masa depan\\n\\nVIEW MORE\\n\\n\\n\\n\\n\\n\\n\\n\\n\\n\\n\\n\\n\\n\\n\\n\\n\\n\\n\\n\\n\\n\\n\\n\\n\\nRekrutmen\\nPertamina membuka kesempatan yang seluas-luasnya bagi anak bangsa yang ingin berkarir di perusahaan dan berkontribusi secara besar terhadap kemajuan perekonomian bangsa\\n\\n\\n\\n\\n\\n\\n\\n\\n\\n\\n\\n\\n\\nLayanan Informasi Publik \\nDalam memenuhi kebutuhan informasi bagi masyarakat, Pertamina memberikan akses yang luas untuk dapat mencari informasi seputar kegiatan energi di Indonesia\\n\\n\\n\\n\\n\\n\\n\\n\\n\\n\\n\\n\\n\\nHarga BBM Pertamina\\nPertamina terus melakukan penyesuaian harga BBM secara berkala mengikuti tren harga minyak dunia dan mekanisme pasar. Info selengkapnya >> \\n\\n\\n\\n\\n\\n\\n\\n\\n\\n\\n\\n\\n\\nLaporan Tahunan\\nPerseroan menyajikan informasi mengenai kinerja operasional dan finansial serta wujud dari komitmen perusahaan terhadap pelaksanaan prinsip-prinsip keberlanjutan yang disusun dalam bentuk Laporan Tahunan dan Laporan Keberlanjutan\\n\\n\\n\\n\\n\\n\\n\\n\\n\\n\\n\\n\\n\\n\\n\\n\\n\\n\\n\\n\\n\\n\\nPertamina News Room\\n\\nVIEW MORE\\n\\n\\n\\n\\n\\n\\n\\n\\n\\n\\n\\n\\n\\n\\n\\n\\n\\n\\n\\n\\n\\n\\n\\n\\n\\n\\n\\n\\nTampilkan Semua Berita\\n\\n\\n\\n\\n\\n\\n\\n\\n\\n\\n\\n\\nMedia Sosial Kami\\n\\n\\n\\n\\n\\n\\n\\n\\n\\n\\n\\n\\n\\n\\n\\n\\n\\nHati-Hati Penipuan atas nama kami\\n\\n\\n\\n\\nHubungi Kami\\n\\n\\n\\n\\n\\n\\n\\n--Institusi--\\nMedia\\nInvestor\\nUmum\\n\\n\\nSend Message\\n\\n\\n\\n\\n\\n\\n\\n\\n\\n\\n\\n   \\n\\n\\n\\n  \\n\\n\\n\\n\\n\\n\\n\\n\\n\\n\\n\\n\\n\\n\\r\\n                                {{ item.name }}\\r\\n                            \\n\\n\\n\\r\\n                                        {{subitem.name}}\\r\\n                                    \\n\\n\\n\\n\\n\\n\\n\\n Contact\\n135\\n\\n\\nAddress: Grha Pertamina, Jl. Medan Merdeka Timur No.11-13, Jakarta 10110 Indonesia\\nEmail: pcc135@pertamina.com\\n\\n\\n\\n\\n\\n\\n\\n\\n\\n\\n\\n\\n\\n\\n\\n\\n\\n\\n\\n\\n\\r\\n                            | \\xa0@pertamina\\n\\n\\n\\n\\n\\r\\n                © Copyright PT Pertamina(Persero) 2020. All Right Reserved\\r\\n            \\n\\n\\n\\n\\n\\n\\n\\n\\n\\n\\n\\n\\n\\n\\n\\n\\n\\n\\n\\n\\n\\n\\n\\n\\n\\n\\n\\n\\n\\n\\n\\n\\n\\n\\n \\n\\n\\n\\n\\n\\n\\n\\n\\n\\n\\n\\n\\n\\n\\n\\n\\n\\n\\n \\n\\n\\n\\n\\n\\n\\n\\n\\n\\n\\n\\n\\n\\n\\n\\r\\n                                        {{item.name}}\\r\\n                                    \\n\\n\\n\\n\\n\\n\\n\\n\\n\\n\\n\\n\\n\\r\\n                                    {{submenu.name}}\\r\\n                                \\n\\n\\r\\n                                        {{submenuDetail.name}}\\r\\n                                    \\n\\n\\n\\r\\n                                                {{submenu2Detail.name}}\\r\\n                                            \\n\\n\\n\\n\\n\\n\\n\\n\\n\\n\\n\\n\\n\\n\\n\\r\\n                                        {{ selectedMainItem.extraTitle }}\\r\\n                                    \\n\\r\\n                                        {{ selectedMainItem.extraDescription }}\\r\\n                                    \\n\\n\\n\\n\\n\\n\\n\\n\\n\\n\\n\\n\\n\\r\\n                    Back\\r\\n                \\n\\n\\n\\n{{item.name}}\\n\\n\\n\\n\\n\\n\\n\\n\\n\\n\\r\\n                                        {{ selectedMainItem.extraTitle }}\\r\\n                                    \\n\\r\\n                                        {{ selectedMainItem.extraDescription }}\\r\\n                                    \\n\\n\\n\\n\\n\\n\\n\\n\\n\\n\\r\\n                                {{submenu.name}}\\r\\n                            \\n\\n\\r\\n                                    {{submenuDetail.name}}\\r\\n                                \\n\\n\\n\\r\\n                                            {{submenu2Detail.name}}\\r\\n                                        \\n\\n\\n\\n\\n\\n\\n\\n\\n\\n\\n\\n\\n\\n\\n\\n\\n\\n\\n\\n Search \\n\\n\\n\\n\\n\\n\\n\\n\\n\\n\\n\\n\\n\\n\\n\\n\\n\\n\\n\\n×\\n\\n\\n\\n\\n\\n\\n\\n\\n\\n\\n\\n\\n\\n\\nPrevious\\n\\n\\n\\nNext\\n\\n\\n\\n\\n\\n\\n\\n\\n\\n\\n\\n\\n\\n\\n\\n\\n\\n\\n\\n\\n\\n\\n\\n\\n\\n\\n\\n\\n\\n\\n\\n', metadata={'source': 'https://www.pertamina.com/', 'title': 'Home | Pertamina', 'description': 'No description found.', 'language': 'en-US'})]"
      ]
     },
     "execution_count": 13,
     "metadata": {},
     "output_type": "execute_result"
    }
   ],
   "source": [
    "from langchain_community.document_loaders import WebBaseLoader\n",
    "\n",
    "\n",
    "def load_web_page(page_url):\n",
    "    loader = WebBaseLoader(page_url)\n",
    "    data = loader.load()\n",
    "    return data\n",
    "\n",
    "url = \"https://www.pertamina.com/\"\n",
    "\n",
    "load_web_page(url)"
   ]
  },
  {
   "cell_type": "markdown",
   "metadata": {},
   "source": [
    "Fetching Online PDF Docs (Takes long time)"
   ]
  },
  {
   "cell_type": "code",
   "execution_count": null,
   "metadata": {},
   "outputs": [],
   "source": [
    "# # https://www.pertamina.com/media/734000/Pedoman_Perilaku_Pertamina.pdf\n",
    "\n",
    "# from langchain_community.document_loaders import OnlinePDFLoader\n",
    "\n",
    "\n",
    "# doc_url = \"https://s3-us-west-2.amazonaws.com/pressbooks-samplefiles/LewisTheme/The-Problems-of-Philosophy-LewisTheme.pdf\"\n",
    "\n",
    "# loader = OnlinePDFLoader(doc_url)\n",
    "# data = loader.load()\n",
    "\n",
    "# print(data[0:3])\n",
    "\n",
    "# takes long time"
   ]
  },
  {
   "cell_type": "markdown",
   "metadata": {},
   "source": [
    "Alternate Method: Download File with Requests"
   ]
  },
  {
   "cell_type": "code",
   "execution_count": null,
   "metadata": {},
   "outputs": [
    {
     "name": "stdout",
     "output_type": "stream",
     "text": [
      "Pedoman_Perilaku_Pertamina.pdf\n"
     ]
    },
    {
     "ename": "NameError",
     "evalue": "name '__file__' is not defined",
     "output_type": "error",
     "traceback": [
      "\u001b[1;31m---------------------------------------------------------------------------\u001b[0m",
      "\u001b[1;31mNameError\u001b[0m                                 Traceback (most recent call last)",
      "Cell \u001b[1;32mIn[2], line 12\u001b[0m\n\u001b[0;32m      9\u001b[0m \u001b[38;5;28mprint\u001b[39m(filename_from_url(\u001b[38;5;124m\"\u001b[39m\u001b[38;5;124mhttps://www.pertamina.com/media/734000/Pedoman_Perilaku_Pertamina.pdf\u001b[39m\u001b[38;5;124m\"\u001b[39m))\n\u001b[0;32m     11\u001b[0m \u001b[38;5;66;03m# if you want it locally, you can use: \u001b[39;00m\n\u001b[1;32m---> 12\u001b[0m CONTENT_DIR \u001b[38;5;241m=\u001b[39m os\u001b[38;5;241m.\u001b[39mpath\u001b[38;5;241m.\u001b[39mdirname(\u001b[38;5;18;43m__file__\u001b[39;49m)\n\u001b[0;32m     13\u001b[0m \u001b[38;5;66;03m# an alternative if you want it in /tmp or equivalent\u001b[39;00m\n\u001b[0;32m     14\u001b[0m \u001b[38;5;66;03m# CONTENT_DIR = tempfile.gettempdir()\u001b[39;00m\n\u001b[0;32m     17\u001b[0m \u001b[38;5;28;01mdef\u001b[39;00m \u001b[38;5;21mdownload_file\u001b[39m(url, filename\u001b[38;5;241m=\u001b[39m\u001b[38;5;28;01mNone\u001b[39;00m):\n",
      "\u001b[1;31mNameError\u001b[0m: name '__file__' is not defined"
     ]
    }
   ],
   "source": [
    "import requests\n",
    "import os\n",
    "\n",
    "\n",
    "def filename_from_url(url):\n",
    "    filename = url.split(\"/\")[-1]\n",
    "    return filename\n",
    "\n",
    "print(filename_from_url(\"https://www.pertamina.com/media/734000/Pedoman_Perilaku_Pertamina.pdf\"))\n",
    "\n",
    "# if you want it locally, you can use: \n",
    "CONTENT_DIR = os.path.dirname(__file__)\n",
    "# an alternative if you want it in /tmp or equivalent\n",
    "# CONTENT_DIR = tempfile.gettempdir()\n",
    "\n",
    "\n",
    "def download_file(url, filename=None):\n",
    "    response = requests.get(url)\n",
    "    if not filename:\n",
    "        filename = filename_from_url(url)\n",
    "\n",
    "\n",
    "    full_path = os.path.join(CONTENT_DIR, filename)\n",
    "\n",
    "\n",
    "    with open(full_path, mode=\"wb\") as f:\n",
    "        f.write(response.content)\n",
    "        download_path = os.path.realpath(f.name)\n",
    "    print(f\"Downloaded file {filename} to {download_path}\")\n",
    "    return download_path\n",
    "\n",
    "download_file(\"https://www.pertamina.com/media/734000/Pedoman_Perilaku_Pertamina.pdf\")"
   ]
  },
  {
   "cell_type": "markdown",
   "metadata": {},
   "source": [
    "Combination of Local Loader for the Apps later"
   ]
  },
  {
   "cell_type": "code",
   "execution_count": 14,
   "metadata": {},
   "outputs": [],
   "source": [
    "import os\n",
    "from pathlib import Path\n",
    "\n",
    "from pypdf import PdfReader\n",
    "from langchain.docstore.document import Document\n",
    "from langchain_community.document_loaders import TextLoader\n",
    "from langchain_community.document_loaders.csv_loader import CSVLoader\n",
    "\n",
    "\n",
    "def list_txt_files(data_dir=\"./data\"):\n",
    "    paths = Path(data_dir).glob('**/*.txt')\n",
    "    for path in paths:\n",
    "        yield str(path)\n",
    "\n",
    "\n",
    "def load_txt_files(data_dir=\"./data\"):\n",
    "    docs = []\n",
    "    paths = list_txt_files(data_dir)\n",
    "    for path in paths:\n",
    "        print(f\"Loading {path}\")\n",
    "        loader = TextLoader(path)\n",
    "        docs.extend(loader.load())\n",
    "    return docs\n",
    "\n",
    "\n",
    "def load_csv_files(data_dir=\"./data\"):\n",
    "    docs = []\n",
    "    paths = Path(data_dir).glob('**/*.csv')\n",
    "    for path in paths:\n",
    "        loader = CSVLoader(file_path=str(path))\n",
    "        docs.extend(loader.load())\n",
    "    return docs\n",
    "\n",
    "\n",
    "# Use with result of file_to_summarize = st.file_uploader(\"Choose a file\") or a string.\n",
    "# or a file like object.\n",
    "def get_document_text(uploaded_file, title=None):\n",
    "    docs = []\n",
    "    fname = uploaded_file.name\n",
    "    if not title:\n",
    "        title = os.path.basename(fname)\n",
    "    if fname.lower().endswith('pdf'):\n",
    "        pdf_reader = PdfReader(uploaded_file)\n",
    "        for num, page in enumerate(pdf_reader.pages):\n",
    "            page = page.extract_text()\n",
    "            doc = Document(page_content=page, metadata={'title': title, 'page': (num + 1)})\n",
    "            docs.append(doc)\n",
    "\n",
    "    else:\n",
    "        # assume text\n",
    "        doc_text = uploaded_file.read().decode()\n",
    "        docs.append(doc_text)\n",
    "\n",
    "    return docs"
   ]
  },
  {
   "cell_type": "markdown",
   "metadata": {},
   "source": [
    "Combination of Remote Loader for the Apps later"
   ]
  },
  {
   "cell_type": "code",
   "execution_count": 15,
   "metadata": {},
   "outputs": [
    {
     "ename": "NameError",
     "evalue": "name '__file__' is not defined",
     "output_type": "error",
     "traceback": [
      "\u001b[1;31m---------------------------------------------------------------------------\u001b[0m",
      "\u001b[1;31mNameError\u001b[0m                                 Traceback (most recent call last)",
      "Cell \u001b[1;32mIn[15], line 10\u001b[0m\n\u001b[0;32m      6\u001b[0m \u001b[38;5;28;01mfrom\u001b[39;00m \u001b[38;5;21;01mlangchain_community\u001b[39;00m\u001b[38;5;21;01m.\u001b[39;00m\u001b[38;5;21;01mdocument_loaders\u001b[39;00m \u001b[38;5;28;01mimport\u001b[39;00m OnlinePDFLoader\n\u001b[0;32m      9\u001b[0m \u001b[38;5;66;03m# if you want it locally, you can use:\u001b[39;00m\n\u001b[1;32m---> 10\u001b[0m CONTENT_DIR \u001b[38;5;241m=\u001b[39m os\u001b[38;5;241m.\u001b[39mpath\u001b[38;5;241m.\u001b[39mdirname(\u001b[38;5;18;43m__file__\u001b[39;49m)\n\u001b[0;32m     13\u001b[0m \u001b[38;5;66;03m# an alternative if you want it in /tmp or equivalent.\u001b[39;00m\n\u001b[0;32m     14\u001b[0m \u001b[38;5;66;03m# CONTENT_DIR = tempfile.gettempdir()\u001b[39;00m\n\u001b[0;32m     16\u001b[0m \u001b[38;5;28;01mdef\u001b[39;00m \u001b[38;5;21mload_web_page\u001b[39m(page_url):\n",
      "\u001b[1;31mNameError\u001b[0m: name '__file__' is not defined"
     ]
    }
   ],
   "source": [
    "import requests\n",
    "import os\n",
    "\n",
    "from langchain_community.document_loaders import WebBaseLoader, WikipediaLoader\n",
    "from local_loader import get_document_text\n",
    "from langchain_community.document_loaders import OnlinePDFLoader\n",
    "\n",
    "\n",
    "# if you want it locally, you can use:\n",
    "CONTENT_DIR = os.path.dirname(__file__)\n",
    "\n",
    "\n",
    "# an alternative if you want it in /tmp or equivalent.\n",
    "# CONTENT_DIR = tempfile.gettempdir()\n",
    "\n",
    "def load_web_page(page_url):\n",
    "    loader = WebBaseLoader(page_url)\n",
    "    data = loader.load()\n",
    "    return data\n",
    "\n",
    "\n",
    "def load_online_pdf(pdf_url):\n",
    "    loader = OnlinePDFLoader(pdf_url)\n",
    "    data = loader.load()\n",
    "    return data\n",
    "\n",
    "\n",
    "def filename_from_url(url):\n",
    "    filename = url.split(\"/\")[-1]\n",
    "    return filename\n",
    "\n",
    "\n",
    "def download_file(url, filename=None):\n",
    "    response = requests.get(url)\n",
    "    if not filename:\n",
    "        filename = filename_from_url(url)\n",
    "\n",
    "    full_path = os.path.join(CONTENT_DIR, filename)\n",
    "\n",
    "    with open(full_path, mode=\"wb\") as f:\n",
    "        f.write(response.content)\n",
    "        download_path = os.path.realpath(f.name)\n",
    "    print(f\"Downloaded file {filename} to {download_path}\")\n",
    "    return download_path\n",
    "\n",
    "\n",
    "def get_wiki_docs(query, load_max_docs=2):\n",
    "    wiki_loader = WikipediaLoader(query=query, load_max_docs=load_max_docs)\n",
    "    docs = wiki_loader.load()\n",
    "    for d in docs:\n",
    "        print(d.metadata[\"title\"])\n",
    "    return docs"
   ]
  },
  {
   "cell_type": "markdown",
   "metadata": {},
   "source": [
    "splitting docs into chunks"
   ]
  },
  {
   "cell_type": "code",
   "execution_count": 16,
   "metadata": {},
   "outputs": [
    {
     "name": "stdout",
     "output_type": "stream",
     "text": [
      "Split into 81 chunks\n"
     ]
    },
    {
     "data": {
      "text/plain": [
       "[Document(page_content='Contractor: BOB PT. BUMI SIAK PUSAKO - PERTAMINA HULU\\nJAN: 8,514\\nFEB: 8,911\\nMAR: 8,621\\nAPR: 8,633\\nMAY: 8,686\\nJUN: 8,483\\nJUL: 8,436\\nAUG: 8,448\\nSEP: 8,224\\nOCT: 8,180\\nNOV: 8,625\\nDEC: 8,520'),\n",
       " Document(page_content='Contractor: BP BERAU LTD\\nJAN: 5,831\\nFEB: 5,703\\nMAR: 5,322\\nAPR: 5,287\\nMAY: 4,262\\nJUN: 6,090\\nJUL: 5,915\\nAUG: 5,873\\nSEP: 4,812\\nOCT: 5,339\\nNOV: 5,855\\nDEC: 5,748'),\n",
       " Document(page_content='Contractor: CAMAR RESOURCES CANADA INC.\\nJAN: 9\\nFEB: 0\\nMAR: 36\\nAPR: 311\\nMAY: 206\\nJUN: 177\\nJUL: 0\\nAUG: 0\\nSEP: 0\\nOCT: 0\\nNOV: 0\\nDEC: 0'),\n",
       " Document(page_content='Contractor: CHEVRON MAKASSAR LTD\\nJAN: 1,057\\nFEB: 1,235\\nMAR: 1,229\\nAPR: 1,229\\nMAY: 1,054\\nJUN: 931\\nJUL: 886\\nAUG: 848\\nSEP: 953\\nOCT: 861\\nNOV: 1,111\\nDEC: 1,166'),\n",
       " Document(page_content='Contractor: CHEVRON RAPAK LTD.\\nJAN: 726\\nFEB: 710\\nMAR: 708\\nAPR: 677\\nMAY: 677\\nJUN: 660\\nJUL: 655\\nAUG: 605\\nSEP: 578\\nOCT: 545\\nNOV: 583\\nDEC: 562'),\n",
       " Document(page_content='Contractor: CITIC SERAM ENERGY LTD\\nJAN: 1,517\\nFEB: 1,521\\nMAR: 1,522\\nAPR: 1,543\\nMAY: 1,508\\nJUN: 1,534\\nJUL: 1,484\\nAUG: 1,535\\nSEP: 1,408\\nOCT: 1,344\\nNOV: 1,490\\nDEC: 1,441'),\n",
       " Document(page_content='Contractor: PT PERTAMINA HULU ENERGI OSES\\nJAN: 24,003\\nFEB: 23,580\\nMAR: 24,463\\nAPR: 26,057\\nMAY: 25,365\\nJUN: 24,020\\nJUL: 22,708\\nAUG: 23,894\\nSEP: 23,031\\nOCT: 25,014\\nNOV: 24,978\\nDEC: 24,888'),\n",
       " Document(page_content='Contractor: CONOCOPHILLIPS (GRISSIK) LTD.\\nJAN: 5,990\\nFEB: 5,428\\nMAR: 10,330\\nAPR: 6,763\\nMAY: 3,805\\nJUN: 5,642\\nJUL: 9,253\\nAUG: 8,164\\nSEP: 7,322\\nOCT: 5,985\\nNOV: 6,693\\nDEC: 7,588'),\n",
       " Document(page_content='Contractor: ENERGI MEGA PERSADA MALACCA STRAIT S.A.\\nJAN: 4,533\\nFEB: 4,744\\nMAR: 4,650\\nAPR: 4,470\\nMAY: 4,531\\nJUN: 4,945\\nJUL: 4,687\\nAUG: 4,456\\nSEP: 4,796\\nOCT: 4,882\\nNOV: 5,144\\nDEC: 5,189'),\n",
       " Document(page_content='Contractor: ENERGY EQUITY EPIC (SENGKANG) PTY. LTD.\\nJAN: 1\\nFEB: 1\\nMAR: 1\\nAPR: 0\\nMAY: 2\\nJUN: 0\\nJUL: 0\\nAUG: 1\\nSEP: 1\\nOCT: 1\\nNOV: 1\\nDEC: 1'),\n",
       " Document(page_content='Contractor: ENI MUARA BAKAU B.V.\\nJAN: 690\\nFEB: 1,474\\nMAR: 1,533\\nAPR: 1,174\\nMAY: 1,185\\nJUN: 1,206\\nJUL: 1,130\\nAUG: 1,143\\nSEP: 1,127\\nOCT: 1,117\\nNOV: 1,065\\nDEC: 947'),\n",
       " Document(page_content='Contractor: HUSKY-CNOOC MADURA LTD.\\nJAN: 6,758\\nFEB: 6,671\\nMAR: 5,940\\nAPR: 5,283\\nMAY: 6,275\\nJUN: 7,122\\nJUL: 7,075\\nAUG: 6,949\\nSEP: 6,838\\nOCT: 6,511\\nNOV: 6,787\\nDEC: 6,909'),\n",
       " Document(page_content='Contractor: PT PERTAMINA HULU ENERGI RAJA TEMPIRAI\\nJAN: 368\\nFEB: 332\\nMAR: 317\\nAPR: 297\\nMAY: 194\\nJUN: 192\\nJUL: 298\\nAUG: 329\\nSEP: 327\\nOCT: 253\\nNOV: 270\\nDEC: 285'),\n",
       " Document(page_content='Contractor: JOB PERTAMINA - MEDCO TOMORI SULAWESI LTD\\nJAN: 7,870\\nFEB: 7,718\\nMAR: 7,373\\nAPR: 7,619\\nMAY: 6,602\\nJUN: 7,606\\nJUL: 7,675\\nAUG: 7,772\\nSEP: 879\\nOCT: 7,319\\nNOV: 6,377\\nDEC: 7,986'),\n",
       " Document(page_content='Contractor: PETROGAS (ISLAND) LTD.\\nJAN: 788\\nFEB: 771\\nMAR: 705\\nAPR: 725\\nMAY: 720\\nJUN: 733\\nJUL: 878\\nAUG: 833\\nSEP: 867\\nOCT: 822\\nNOV: 810\\nDEC: 832'),\n",
       " Document(page_content='Contractor: KALREZ PETROLEUM (SERAM) LTD\\nJAN: 222\\nFEB: 218\\nMAR: 210\\nAPR: 203\\nMAY: 201\\nJUN: 211\\nJUL: 201\\nAUG: 201\\nSEP: 189\\nOCT: 211\\nNOV: 214\\nDEC: 213'),\n",
       " Document(page_content='Contractor: KANGEAN ENERGI INDONESIA\\nJAN: 63\\nFEB: 69\\nMAR: 78\\nAPR: 72\\nMAY: 69\\nJUN: 61\\nJUL: 63\\nAUG: 67\\nSEP: 65\\nOCT: 62\\nNOV: 46\\nDEC: 57'),\n",
       " Document(page_content='Contractor: MINARAK BRANTAS GAS INC.\\nJAN: 0\\nFEB: 0\\nMAR: 0\\nAPR: 0\\nMAY: 0\\nJUN: 0\\nJUL: 0\\nAUG: 0\\nSEP: 0\\nOCT: 0\\nNOV: 0\\nDEC: 0'),\n",
       " Document(page_content='Contractor: MANDALA ENERGY LEMANG PTE. LTD.\\nJAN: 0\\nFEB: 0\\nMAR: 0\\nAPR: 0\\nMAY: 0\\nJUN: 0\\nJUL: 0\\nAUG: 0\\nSEP: 0\\nOCT: 0\\nNOV: 0\\nDEC: 0'),\n",
       " Document(page_content='Contractor: MEDCO E & P NATUNA\\nJAN: 16,479\\nFEB: 16,176\\nMAR: 15,865\\nAPR: 15,158\\nMAY: 13,433\\nJUN: 12,855\\nJUL: 12,471\\nAUG: 14,055\\nSEP: 12,941\\nOCT: 12,489\\nNOV: 11,490\\nDEC: 11,325'),\n",
       " Document(page_content='Contractor: MOBIL CEPU LTD\\nJAN: 217,068\\nFEB: 213,604\\nMAR: 209,117\\nAPR: 204,462\\nMAY: 200,938\\nJUN: 202,002\\nJUL: 204,642\\nAUG: 207,759\\nSEP: 199,684\\nOCT: 193,381\\nNOV: 191,628\\nDEC: 191,034'),\n",
       " Document(page_content='Contractor: MONTDOR (SALAWATI) LTD.\\nJAN: 30\\nFEB: 22\\nMAR: 29\\nAPR: 22\\nMAY: 32\\nJUN: 21\\nJUL: 32\\nAUG: 20\\nSEP: 30\\nOCT: 19\\nNOV: 30\\nDEC: 19'),\n",
       " Document(page_content='Contractor: MONTDOR OIL TUNGKAL LTD\\nJAN: 739\\nFEB: 751\\nMAR: 666\\nAPR: 689\\nMAY: 759\\nJUN: 719\\nJUL: 675\\nAUG: 658\\nSEP: 630\\nOCT: 647\\nNOV: 596\\nDEC: 496'),\n",
       " Document(page_content='Contractor: PEARL OIL (SEBUKU) LTD.\\nJAN: 21\\nFEB: 36\\nMAR: 34\\nAPR: 27\\nMAY: 31\\nJUN: 35\\nJUL: 25\\nAUG: 27\\nSEP: 15\\nOCT: 20\\nNOV: 19\\nDEC: 5'),\n",
       " Document(page_content='Contractor: OPHIR INDONESIA (BANGKANAI) LIMITED.\\nJAN: 489\\nFEB: 463\\nMAR: 493\\nAPR: 489\\nMAY: 478\\nJUN: 483\\nJUL: 447\\nAUG: 478\\nSEP: 477\\nOCT: 470\\nNOV: 471\\nDEC: 473'),\n",
       " Document(page_content='Contractor: PERTAMINA HULU ENERGI KAMPAR\\nJAN: 886\\nFEB: 882\\nMAR: 805\\nAPR: 733\\nMAY: 819\\nJUN: 912\\nJUL: 1,005\\nAUG: 933\\nSEP: 862\\nOCT: 970\\nNOV: 985\\nDEC: 923'),\n",
       " Document(page_content='Contractor: PERTAMINA HULU ENERGI ONWJ LTD\\nJAN: 29,470\\nFEB: 29,276\\nMAR: 29,257\\nAPR: 25,292\\nMAY: 26,302\\nJUN: 26,515\\nJUL: 24,234\\nAUG: 25,831\\nSEP: 27,397\\nOCT: 28,040\\nNOV: 26,199\\nDEC: 27,921'),\n",
       " Document(page_content='Contractor: PERTAMINA HULU ENERGI SIAK\\nJAN: 1,663\\nFEB: 1,647\\nMAR: 1,717\\nAPR: 1,802\\nMAY: 1,739\\nJUN: 1,877\\nJUL: 1,777\\nAUG: 1,670\\nSEP: 1,590\\nOCT: 1,594\\nNOV: 1,536\\nDEC: 1,498'),\n",
       " Document(page_content='Contractor: PERTAMINA HULU ENERGI WEST MADURA OFFSHORE\\nJAN: 2,743\\nFEB: 2,660\\nMAR: 2,554\\nAPR: 2,468\\nMAY: 2,416\\nJUN: 2,450\\nJUL: 2,362\\nAUG: 2,408\\nSEP: 2,016\\nOCT: 1,976\\nNOV: 1,968\\nDEC: 1,935'),\n",
       " Document(page_content='Contractor: PETROCHINA INTERNATIONAL BANGKO LTD\\nJAN: 171\\nFEB: 202\\nMAR: 166\\nAPR: 167\\nMAY: 146\\nJUN: 152\\nJUL: 142\\nAUG: 129\\nSEP: 129\\nOCT: 133\\nNOV: 135\\nDEC: 123'),\n",
       " Document(page_content='Contractor: PETROCHINA INTERNATIONAL JABUNG LTD\\nJAN: 15,060\\nFEB: 14,322\\nMAR: 14,857\\nAPR: 14,960\\nMAY: 15,040\\nJUN: 14,930\\nJUL: 15,759\\nAUG: 15,773\\nSEP: 16,263\\nOCT: 16,161\\nNOV: 16,154\\nDEC: 15,892'),\n",
       " Document(page_content='Contractor: PETROGAS (BASIN) LTD\\nJAN: 4,525\\nFEB: 4,578\\nMAR: 4,518\\nAPR: 4,681\\nMAY: 4,562\\nJUN: 4,555\\nJUL: 4,779\\nAUG: 4,457\\nSEP: 4,227\\nOCT: 4,302\\nNOV: 4,335\\nDEC: 4,235'),\n",
       " Document(page_content='Contractor: PETRONAS CARIGALI (KETAPANG) LTD\\nJAN: 8,077\\nFEB: 7,543\\nMAR: 7,755\\nAPR: 7,430\\nMAY: 7,488\\nJUN: 6,351\\nJUL: 7,114\\nAUG: 6,855\\nSEP: 6,731\\nOCT: 6,507\\nNOV: 6,313\\nDEC: 6,442'),\n",
       " Document(page_content='Contractor: PHE OGAN KOMERING\\nJAN: 1,277\\nFEB: 1,224\\nMAR: 1,336\\nAPR: 1,612\\nMAY: 1,765\\nJUN: 1,765\\nJUL: 1,728\\nAUG: 1,727\\nSEP: 1,666\\nOCT: 1,683\\nNOV: 1,666\\nDEC: 1,597'),\n",
       " Document(page_content='Contractor: PHE TUBAN EAST JAVA\\nJAN: 1,407\\nFEB: 1,336\\nMAR: 1,224\\nAPR: 1,193\\nMAY: 976\\nJUN: 973\\nJUL: 863\\nAUG: 1,085\\nSEP: 952\\nOCT: 1,015\\nNOV: 984\\nDEC: 797'),\n",
       " Document(page_content='Contractor: PHM\\nJAN: 30,342\\nFEB: 28,965\\nMAR: 25,588\\nAPR: 25,860\\nMAY: 24,840\\nJUN: 26,016\\nJUL: 24,434\\nAUG: 22,137\\nSEP: 23,899\\nOCT: 20,398\\nNOV: 24,032\\nDEC: 22,948'),\n",
       " Document(page_content='Contractor: PREMIER OIL INDONESIA\\nJAN: 1,852\\nFEB: 1,946\\nMAR: 1,910\\nAPR: 1,739\\nMAY: 1,797\\nJUN: 1,168\\nJUL: 1,047\\nAUG: 1,802\\nSEP: 1,719\\nOCT: 1,655\\nNOV: 1,382\\nDEC: 1,563'),\n",
       " Document(page_content='Contractor: PT PERTAMINA HULU ENERGI JAMBI MERANG\\nJAN: 4,895\\nFEB: 4,882\\nMAR: 4,796\\nAPR: 4,678\\nMAY: 4,780\\nJUN: 4,638\\nJUL: 4,556\\nAUG: 4,840\\nSEP: 3,880\\nOCT: 3,222\\nNOV: 4,437\\nDEC: 4,455'),\n",
       " Document(page_content='Contractor: PT PERTAMINA HULU KALIMANTAN TIMUR\\nJAN: 8,341\\nFEB: 8,418\\nMAR: 9,547\\nAPR: 9,173\\nMAY: 9,387\\nJUN: 9,691\\nJUL: 9,366\\nAUG: 9,183\\nSEP: 9,609\\nOCT: 9,291\\nNOV: 9,153\\nDEC: 10,404'),\n",
       " Document(page_content='Contractor: PT PERTAMINA HULU SANGA SANGA\\nJAN: 11,887\\nFEB: 12,042\\nMAR: 11,607\\nAPR: 11,417\\nMAY: 11,622\\nJUN: 12,173\\nJUL: 12,547\\nAUG: 13,089\\nSEP: 12,902\\nOCT: 12,810\\nNOV: 11,807\\nDEC: 12,948'),\n",
       " Document(page_content='Contractor: PT PERTAMINA HULU ROKAN\\nJAN: 163827\\nFEB: 161572\\nMAR: 163294\\nAPR: 159093\\nMAY: 157828\\nJUN: 158319\\nJUL: 159516\\nAUG: 158857\\nSEP: 157965\\nOCT: 159084\\nNOV: 161921\\nDEC: 160007'),\n",
       " Document(page_content='Contractor: PT. ENERGI MEGA PERSADA TONGA\\nJAN: 0\\nFEB: 0\\nMAR: 0\\nAPR: 0\\nMAY: 0\\nJUN: 0\\nJUL: 0\\nAUG: 0\\nSEP: 0\\nOCT: 0\\nNOV: 0\\nDEC: 0'),\n",
       " Document(page_content='Contractor: PT. PERTAMINA EP\\nJAN: 73879\\nFEB: 73860\\nMAR: 72997\\nAPR: 72274\\nMAY: 71952\\nJUN: 70881\\nJUL: 69894\\nAUG: 68534\\nSEP: 69887\\nOCT: 70932\\nNOV: 69958\\nDEC: 71739'),\n",
       " Document(page_content='Contractor: PT. SARANA PEMBANGUNAN RIAU LANGGAK\\nJAN: 534\\nFEB: 530\\nMAR: 534\\nAPR: 527\\nMAY: 536\\nJUN: 529\\nJUL: 529\\nAUG: 509\\nSEP: 501\\nOCT: 504\\nNOV: 485\\nDEC: 485'),\n",
       " Document(page_content='Contractor: PT. SELERAYA MERANGIN DUA\\nJAN: 2440\\nFEB: 2346\\nMAR: 2308\\nAPR: 2782\\nMAY: 2790\\nJUN: 2910\\nJUL: 3147\\nAUG: 3086\\nSEP: 3438\\nOCT: 3455\\nNOV: 3422\\nDEC: 3208'),\n",
       " Document(page_content='Contractor: PT.MEDCO E&P INDONESIA\\nJAN: 4077\\nFEB: 3871\\nMAR: 3760\\nAPR: 3350\\nMAY: 3478\\nJUN: 3348\\nJUL: 3381\\nAUG: 3342\\nSEP: 3100\\nOCT: 3299\\nNOV: 3200\\nDEC: 3130'),\n",
       " Document(page_content='Contractor: PT.MEDCO E&P RIMAU\\nJAN: 6301\\nFEB: 6367\\nMAR: 6414\\nAPR: 6309\\nMAY: 6161\\nJUN: 5997\\nJUL: 5915\\nAUG: 5847\\nSEP: 5699\\nOCT: 5798\\nNOV: 5557\\nDEC: 5682'),\n",
       " Document(page_content='Contractor: PT.MEDCO E&P TARAKAN\\nJAN: 1014\\nFEB: 1033\\nMAR: 1007\\nAPR: 1032\\nMAY: 1026\\nJUN: 1006\\nJUL: 1053\\nAUG: 874\\nSEP: 886\\nOCT: 913\\nNOV: 737\\nDEC: 857'),\n",
       " Document(page_content='Contractor: SAKA INDONESIA PANGKAH LTD\\nJAN: 4093\\nFEB: 4019\\nMAR: 3319\\nAPR: 3476\\nMAY: 4080\\nJUN: 4150\\nJUL: 4123\\nAUG: 5321\\nSEP: 5097\\nOCT: 6551\\nNOV: 6554\\nDEC: 8518'),\n",
       " Document(page_content='Contractor: OPHIR INDONESIA (SAMPANG) PTY. LTD.\\nJAN: 129\\nFEB: 140\\nMAR: 132\\nAPR: 129\\nMAY: 117\\nJUN: 108\\nJUL: 137\\nAUG: 139\\nSEP: 137\\nOCT: 132\\nNOV: 137\\nDEC: 126'),\n",
       " Document(page_content='Contractor: STAR ENERGY LTD\\nJAN: 1449\\nFEB: 1327\\nMAR: 1391\\nAPR: 1348\\nMAY: 1361\\nJUN: 1296\\nJUL: 1348\\nAUG: 1169\\nSEP: 1094\\nOCT: 885\\nNOV: 884\\nDEC: 1032'),\n",
       " Document(page_content='Contractor: TATELY N.V.\\nJAN: 131\\nFEB: 132\\nMAR: 131\\nAPR: 136\\nMAY: 131\\nJUN: 130\\nJUL: 103\\nAUG: 154\\nSEP: 157\\nOCT: 247\\nNOV: 201\\nDEC: 57'),\n",
       " Document(page_content='Contractor: TIARA BUMI PETROLEUM\\nJAN: 112\\nFEB: 102\\nMAR: 102\\nAPR: 101\\nMAY: 99\\nJUN: 71\\nJUL: 81\\nAUG: 82\\nSEP: 149\\nOCT: 146\\nNOV: 143\\nDEC: 151'),\n",
       " Document(page_content='Contractor: PT TROPIK ENERGI PANDAN\\nJAN: 171\\nFEB: 169\\nMAR: 156\\nAPR: 120\\nMAY: 90\\nJUN: 137\\nJUL: 95\\nAUG: 70\\nSEP: 66\\nOCT: 54\\nNOV: 45\\nDEC: 27'),\n",
       " Document(page_content='Contractor: PT MEDCO E&P MALAKA\\nJAN: 976\\nFEB: 961\\nMAR: 762\\nAPR: 26\\nMAY: 452\\nJUN: 376\\nJUL: 1195\\nAUG: 1435\\nSEP: 1480\\nOCT: 1392\\nNOV: 1535\\nDEC: 1525'),\n",
       " Document(page_content='Contractor: PT ODIRA ENERGY KARANG AGUNG\\nJAN: 222\\nFEB: 349\\nMAR: 309\\nAPR: 380\\nMAY: 420\\nJUN: 356\\nJUL: 411\\nAUG: 346\\nSEP: 422\\nOCT: 364\\nNOV: 373\\nDEC: 343'),\n",
       " Document(page_content='Contractor: PT SELE RAYA BELIDA\\nJAN: 23\\nFEB: 27\\nMAR: 28\\nAPR: 38\\nMAY: 30\\nJUN: 33\\nJUL: 32\\nAUG: 35\\nSEP: 34\\nOCT: 30\\nNOV: 29\\nDEC: 28'),\n",
       " Document(page_content='Contractor: PT PERTAMINA HULU ENERGI NORTH SUMATERA OFFSHORE\\nJAN: 41\\nFEB: 14\\nMAR: 0\\nAPR: 0\\nMAY: 2\\nJUN: 296\\nJUL: 21\\nAUG: 0\\nSEP: 0\\nOCT: 0\\nNOV: 158\\nDEC: 0'),\n",
       " Document(page_content='Contractor: PT PEMA GLOBAL ENERGI\\nJAN: 685\\nFEB: 747\\nMAR: 906\\nAPR: 1157\\nMAY: 885\\nJUN: 883\\nJUL: 1102\\nAUG: 1266\\nSEP: 1196\\nOCT: 779\\nNOV: 313\\nDEC: 816'),\n",
       " Document(page_content='Contractor: PT PERTAMINA HULU ENERGI RANDUGUNTING\\nJAN: 7\\nFEB: 15\\nMAR: 8\\nAPR: 8\\nMAY: 6\\nJUN: 13\\nJUL: 6\\nAUG: 5\\nSEP: 12\\nOCT: 10\\nNOV: 8\\nDEC: 1'),\n",
       " Document(page_content='Contractor: PT PERTAMINA EP CEPU ADK\\nJAN: 0\\nFEB: 0\\nMAR: 0\\nAPR: 0\\nMAY: 0\\nJUN: 0\\nJUL: 0\\nAUG: 0\\nSEP: 0\\nOCT: 0\\nNOV: 0\\nDEC: 0'),\n",
       " Document(page_content='Contractor: PT SUMATRA GLOBAL ENERGI\\nJAN: 0\\nFEB: 0\\nMAR: 0\\nAPR: 0\\nMAY: 0\\nJUN: 0\\nJUL: 0\\nAUG: 0\\nSEP: 0\\nOCT: 0\\nNOV: 0\\nDEC: 0'),\n",
       " Document(page_content='Contractor: EMP GEBANG LTD.\\nJAN: 0\\nFEB: 0\\nMAR: 0\\nAPR: 0\\nMAY: 0\\nJUN: 0\\nJUL: 0\\nAUG: 0\\nSEP: 0\\nOCT: 0\\nNOV: 0\\nDEC: 0'),\n",
       " Document(page_content='Contractor: ENERGI MEGA PERSADA BENTU LTD\\nJAN: 0\\nFEB: 0\\nMAR: 0\\nAPR: 0\\nMAY: 0\\nJUN: 0\\nJUL: 0\\nAUG: 0\\nSEP: 0\\nOCT: 0\\nNOV: 0\\nDEC: 0'),\n",
       " Document(page_content='Contractor: JOB PERTAMINA MEDCO SIMENGGARIS\\nJAN: 0\\nFEB: 0\\nMAR: 0\\nAPR: 0\\nMAY: 0\\nJUN: 0\\nJUL: 0\\nAUG: 0\\nSEP: 0\\nOCT: 0\\nNOV: 0\\nDEC: 0'),\n",
       " Document(page_content='Contractor: MANHATTAN KALIMANTAN INVESTMENT PTE. LTD.\\nJAN: 0\\nFEB: 0\\nMAR: 0\\nAPR: 0\\nMAY: 0\\nJUN: 0\\nJUL: 0\\nAUG: 0\\nSEP: 0\\nOCT: 0\\nNOV: 0\\nDEC: 0'),\n",
       " Document(page_content='Contractor: STARBORN ENERGY BONTANG PTE. LTD.\\nJAN: 0\\nFEB: 0\\nMAR: 0\\nAPR: 0\\nMAY: 0\\nJUN: 0\\nJUL: 0\\nAUG: 0\\nSEP: 0\\nOCT: 0\\nNOV: 0\\nDEC: 0'),\n",
       " Document(page_content='Contractor: AWE (NORTHWEST NATUNA) PTE. LTD.\\nJAN: 0\\nFEB: 0\\nMAR: 0\\nAPR: 0\\nMAY: 0\\nJUN: 0\\nJUL: 0\\nAUG: 0\\nSEP: 0\\nOCT: 0\\nNOV: 0\\nDEC: 0'),\n",
       " Document(page_content='Contractor: TRIANGLE PASE INC.\\nJAN: 0\\nFEB: 0\\nMAR: 0\\nAPR: 0\\nMAY: 0\\nJUN: 0\\nJUL: 0\\nAUG: 0\\nSEP: 0\\nOCT: 0\\nNOV: 0\\nDEC: 0'),\n",
       " Document(page_content='Contractor: OPHIR INDONESIA (MADURA OFFSHORE) PTY. LTD.\\nJAN: 0\\nFEB: 0\\nMAR: 0\\nAPR: 0\\nMAY: 0\\nJUN: 0\\nJUL: 0\\nAUG: 0\\nSEP: 0\\nOCT: 0\\nNOV: 0\\nDEC: 0'),\n",
       " Document(page_content='Contractor: PT.MEDCO E&P LEMATANG\\nJAN: 0\\nFEB: 0\\nMAR: 0\\nAPR: 0\\nMAY: 0\\nJUN: 0\\nJUL: 0\\nAUG: 0\\nSEP: 0\\nOCT: 0\\nNOV: 0\\nDEC: 0'),\n",
       " Document(page_content='Contractor: PERUSDA BENUO TAKA\\nJAN: 0\\nFEB: 0\\nMAR: 0\\nAPR: 0\\nMAY: 0\\nJUN: 0\\nJUL: 0\\nAUG: 0\\nSEP: 0\\nOCT: 0\\nNOV: 0\\nDEC: 0'),\n",
       " Document(page_content='Contractor: PT MANDIRI PANCA USAHA\\nJAN: 0\\nFEB: 0\\nMAR: 0\\nAPR: 0\\nMAY: 0\\nJUN: 0\\nJUL: 0\\nAUG: 0\\nSEP: 0\\nOCT: 0\\nNOV: 0\\nDEC: 0'),\n",
       " Document(page_content='Contractor: ENI EAST SEPINGGAN LTD.\\nJAN: 0\\nFEB: 0\\nMAR: 0\\nAPR: 0\\nMAY: 0\\nJUN: 0\\nJUL: 0\\nAUG: 0\\nSEP: 0\\nOCT: 0\\nNOV: 0\\nDEC: 0'),\n",
       " Document(page_content='Contractor: PACIFIC OIL & GAS (KISARAN) LTD.\\nJAN: 0\\nFEB: 0\\nMAR: 0\\nAPR: 0\\nMAY: 0\\nJUN: 0\\nJUL: 0\\nAUG: 0\\nSEP: 0\\nOCT: 0\\nNOV: 0\\nDEC: 0'),\n",
       " Document(page_content='Contractor: PT SUMATERA PERSADA ENERGI\\nJAN: 0\\nFEB: 0\\nMAR: 0\\nAPR: 0\\nMAY: 0\\nJUN: 0\\nJUL: 0\\nAUG: 0\\nSEP: 0\\nOCT: 0\\nNOV: 0\\nDEC: 0'),\n",
       " Document(page_content='Contractor: SAKA ENERGI MURIAH LTD.\\nJAN: 0\\nFEB: 0\\nMAR: 0\\nAPR: 0\\nMAY: 0\\nJUN: 0\\nJUL: 0\\nAUG: 0\\nSEP: 0\\nOCT: 0\\nNOV: 0\\nDEC: 0'),\n",
       " Document(page_content='Contractor: JINDI SOUTH JAMBI B CO. LTD\\nJAN: 0\\nFEB: 0\\nMAR: 0\\nAPR: 0\\nMAY: 0\\nJUN: 9\\nJUL: 38\\nAUG: 0\\nSEP: 135\\nOCT: 80\\nNOV: 64\\nDEC: 75'),\n",
       " Document(page_content='Contractor: TEXCAL MAHATO EP LTD.\\nJAN: 265\\nFEB: 678\\nMAR: 1355\\nAPR: 1636\\nMAY: 2154\\nJUN: 2691\\nJUL: 3580\\nAUG: 3566\\nSEP: 3453\\nOCT: 3943\\nNOV: 4069\\nDEC: 4398'),\n",
       " Document(page_content='Contractor: PASIR PETROLEUM RESOURCES LTD.\\nJAN: 0\\nFEB: 0\\nMAR: 0\\nAPR: 0\\nMAY: 0\\nJUN: 0\\nJUL: 0\\nAUG: 0\\nSEP: 0\\nOCT: 0\\nNOV: 0\\nDEC: 215'),\n",
       " Document(page_content='Contractor: PT PERTAMINA EP CEPU\\nJAN: 0\\nFEB: 0\\nMAR: 0\\nAPR: 0\\nMAY: 0\\nJUN: 0\\nJUL: 0\\nAUG: 0\\nSEP: 0\\nOCT: 0\\nNOV: 0\\nDEC: 0')]"
      ]
     },
     "execution_count": 16,
     "metadata": {},
     "output_type": "execute_result"
    }
   ],
   "source": [
    "# # Split documents into chunks\n",
    "# from langchain.text_splitter import RecursiveCharacterTextSplitter\n",
    "# from langchain.docstore.document import Document\n",
    "\n",
    "\n",
    "# def split_documents(docs):\n",
    "#     text_splitter = RecursiveCharacterTextSplitter(\n",
    "#         chunk_size=1000,\n",
    "#         chunk_overlap=0,\n",
    "#         length_function=len,\n",
    "#         is_separator_regex=False)\n",
    "\n",
    "#     contents = docs\n",
    "#     if docs and isinstance(docs[0], Document):\n",
    "#         contents = [doc.page_content for doc in docs]\n",
    "\n",
    "#     texts = text_splitter.create_documents(contents)\n",
    "#     n_chunks = len(texts)\n",
    "#     print(f\"Split into {n_chunks} chunks\")\n",
    "#     return texts\n",
    "\n",
    "# Split documents into chunks\n",
    "from langchain.text_splitter import RecursiveCharacterTextSplitter\n",
    "from langchain.docstore.document import Document\n",
    "\n",
    "\n",
    "def split_documents(docs):\n",
    "    text_splitter = RecursiveCharacterTextSplitter(\n",
    "        chunk_size=1000,\n",
    "        chunk_overlap=0,\n",
    "        length_function=len,\n",
    "        is_separator_regex=False)\n",
    "\n",
    "    contents = docs\n",
    "    if docs and isinstance(docs[0], Document):\n",
    "        contents = [doc.page_content for doc in docs]\n",
    "\n",
    "    texts = text_splitter.create_documents(contents)\n",
    "    n_chunks = len(texts)\n",
    "    print(f\"Split into {n_chunks} chunks\")\n",
    "    return texts\n",
    "\n",
    "split_documents(docs)"
   ]
  },
  {
   "cell_type": "markdown",
   "metadata": {},
   "source": [
    "Vector Store and Embeddings"
   ]
  },
  {
   "cell_type": "code",
   "execution_count": 17,
   "metadata": {},
   "outputs": [],
   "source": [
    "import logging\n",
    "import os\n",
    "from typing import List\n",
    "\n",
    "from langchain_openai import OpenAIEmbeddings\n",
    "from langchain_community.vectorstores import Chroma\n",
    "from local_loader import get_document_text\n",
    "from remote_loader import download_file\n",
    "from splitter import split_documents\n",
    "from dotenv import load_dotenv\n",
    "from time import sleep\n",
    "\n",
    "EMBED_DELAY = 0.02  # 20 milliseconds\n",
    "\n",
    "\n",
    "# This is to get the Streamlit app to use less CPU while embedding documents into Chromadb.\n",
    "class EmbeddingProxy:\n",
    "    def __init__(self, embedding):\n",
    "        self.embedding = embedding\n",
    "\n",
    "    def embed_documents(self, texts: List[str]) -> List[List[float]]:\n",
    "        sleep(EMBED_DELAY)\n",
    "        return self.embedding.embed_documents(texts)\n",
    "\n",
    "    def embed_query(self, text: str) -> List[float]:\n",
    "        sleep(EMBED_DELAY)\n",
    "        return self.embedding.embed_query(text)\n",
    "\n",
    "\n",
    "# This happens all at once, not ideal for large datasets.\n",
    "def create_vector_db(texts, embeddings=None, collection_name=\"chroma\"):\n",
    "    if not texts:\n",
    "        logging.warning(\"Empty texts passed in to create vector database\")\n",
    "    # Select embeddings\n",
    "    if not embeddings:\n",
    "        # To use HuggingFace embeddings instead:\n",
    "        # from langchain_community.embeddings import HuggingFaceEmbeddings\n",
    "        # embeddings = HuggingFaceEmbeddings(model_name=\"all-MiniLM-L6-v2\")\n",
    "        openai_api_key = os.environ[\"OPENAI_API_KEY\"]\n",
    "        embeddings = OpenAIEmbeddings(openai_api_key=openai_api_key, model=\"text-embedding-3-small\")\n",
    "\n",
    "    proxy_embeddings = EmbeddingProxy(embeddings)\n",
    "    # Create a vectorstore from documents\n",
    "    # this will be a chroma collection with a default name.\n",
    "    db = Chroma(collection_name=collection_name,\n",
    "                embedding_function=proxy_embeddings,\n",
    "                persist_directory=os.path.join(\"store/\", collection_name))\n",
    "    db.add_documents(texts)\n",
    "\n",
    "    return db\n",
    "\n",
    "\n",
    "def find_similar(vs, query):\n",
    "    docs = vs.similarity_search(query)\n",
    "    return docs"
   ]
  },
  {
   "cell_type": "markdown",
   "metadata": {},
   "source": [
    "Hybrid Search"
   ]
  },
  {
   "cell_type": "markdown",
   "metadata": {},
   "source": [
    "basic_chain.py"
   ]
  },
  {
   "cell_type": "code",
   "execution_count": 18,
   "metadata": {},
   "outputs": [
    {
     "name": "stderr",
     "output_type": "stream",
     "text": [
      "c:\\Users\\waviv\\OneDrive\\Documents\\Working Folder\\Development\\RAG LLM\\rag_llm_venv\\Lib\\site-packages\\langchain_core\\_api\\deprecation.py:119: LangChainDeprecationWarning: The class `HuggingFaceHub` was deprecated in LangChain 0.0.21 and will be removed in 0.3.0. Use HuggingFaceEndpoint instead.\n",
      "  warn_deprecated(\n",
      "c:\\Users\\waviv\\OneDrive\\Documents\\Working Folder\\Development\\RAG LLM\\rag_llm_venv\\Lib\\site-packages\\tqdm\\auto.py:21: TqdmWarning: IProgress not found. Please update jupyter and ipywidgets. See https://ipywidgets.readthedocs.io/en/stable/user_install.html\n",
      "  from .autonotebook import tqdm as notebook_tqdm\n",
      "c:\\Users\\waviv\\OneDrive\\Documents\\Working Folder\\Development\\RAG LLM\\rag_llm_venv\\Lib\\site-packages\\langchain_core\\_api\\deprecation.py:119: LangChainDeprecationWarning: The class `ChatHuggingFace` was deprecated in LangChain 0.0.37 and will be removed in 0.3. An updated version of the class exists in the from langchain-huggingface package and should be used instead. To use it run `pip install -U from langchain-huggingface` and import as `from from langchain_huggingface.chat_models import huggingface import ChatHuggingFace`.\n",
      "  warn_deprecated(\n",
      "c:\\Users\\waviv\\OneDrive\\Documents\\Working Folder\\Development\\RAG LLM\\rag_llm_venv\\Lib\\site-packages\\huggingface_hub\\file_download.py:157: UserWarning: `huggingface_hub` cache-system uses symlinks by default to efficiently store duplicated files but your machine does not support them in C:\\Users\\waviv\\.cache\\huggingface\\hub\\models--HuggingFaceH4--zephyr-7b-beta. Caching files will still work but in a degraded version that might require more space on your disk. This warning can be disabled by setting the `HF_HUB_DISABLE_SYMLINKS_WARNING` environment variable. For more details, see https://huggingface.co/docs/huggingface_hub/how-to-cache#limitations.\n",
      "To support symlinks on Windows, you either need to activate Developer Mode or to run Python as an administrator. In order to see activate developer mode, see this article: https://docs.microsoft.com/en-us/windows/apps/get-started/enable-your-device-for-development\n",
      "  warnings.warn(message)\n"
     ]
    },
    {
     "name": "stdout",
     "output_type": "stream",
     "text": [
      "<|user|>\n",
      "Tell me the most noteworthy books by the author William Faulkner</s>\n",
      "<|assistant|>\n",
      "1. \"The Sound and the Fury\" (1929) - This novel is widely considered to be Faulkner's masterpiece. It tells the story of the Compson family over the course of four days, using a non-linear narrative structure that challenges traditional storytelling conventions.\n",
      "\n",
      "2. \"A Rose for Emily\" (1930) - This short story is one of Faulkner's most famous works. It explores themes of isolation, decay, and the passage of time, and is known for its haunting and atmospheric style.\n",
      "\n",
      "3. \"As I Lay Dying\" (1930) - This novel follows the death and burial of Addie Bundren, and the subsequent journey of her family as they transport her body to its final resting place. It is notable for its experimental structure, which consists of a series of interconnected first-person narratives.\n",
      "\n",
      "4. \"Beloved\" (1966) - While not written by Faulkner himself, this novel by Toni Morrison has been heavily influenced by his work. It explores similar themes of memory, identity, and the legacy of slavery, and has been compared to Faulkner's own explorations of the South's past.\n",
      "\n",
      "5. \"The Reivers\" (1962) - This Pulitzer Prize-winning novel tells the story of a group of boys who embark on a wild adventure through the Mississippi countryside. It is a more lighthearted and humorous work than some of Faulkner's other novels, but still showcases his masterful storytelling abilities.\n",
      "\n",
      "6. \"Intruder in the Dust\" (1948) - This novel explores issues of race and justice in the Deep South, and is notable for its nuanced and complex portrayal of African American characters. It also features a unique narrative structure, with multiple perspectives and timelines woven together.\n",
      "\n",
      "7. \"Go Down, Moses\" (1942) - This collection of short stories and novellas explores themes of history, identity, and the natural world. It includes some of Faulkner's most famous works, such as \"The Bear\" and \"The Old People,\" and is considered a landmark in American literature.\n",
      "\n",
      "8. \"Sanctuary\" (1\n"
     ]
    }
   ],
   "source": [
    "import os\n",
    "\n",
    "from langchain_core.output_parsers import StrOutputParser\n",
    "from langchain_core.prompts import ChatPromptTemplate\n",
    "from langchain_openai import ChatOpenAI\n",
    "from langchain_community.llms import HuggingFaceHub\n",
    "from langchain_community.chat_models.huggingface import ChatHuggingFace\n",
    "\n",
    "from dotenv import load_dotenv\n",
    "\n",
    "\n",
    "MISTRAL_ID = \"mistralai/Mistral-7B-Instruct-v0.1\"\n",
    "ZEPHYR_ID = \"HuggingFaceH4/zephyr-7b-beta\"\n",
    "\n",
    "\n",
    "def get_model(repo_id=ZEPHYR_ID, **kwargs):\n",
    "    if repo_id == \"ChatGPT\":\n",
    "        chat_model = ChatOpenAI(temperature=0, **kwargs)\n",
    "    else:\n",
    "        huggingfacehub_api_token = kwargs.get(\"HUGGINGFACEHUB_API_TOKEN\", None)\n",
    "        if not huggingfacehub_api_token:\n",
    "            huggingfacehub_api_token = os.environ.get(\"HUGGINGFACEHUB_API_TOKEN\", None)\n",
    "        os.environ[\"HF_TOKEN\"] = huggingfacehub_api_token\n",
    "\n",
    "        llm = HuggingFaceHub(\n",
    "            repo_id=repo_id,\n",
    "            task=\"text-generation\",\n",
    "            model_kwargs={\n",
    "                \"max_new_tokens\": 512,\n",
    "                \"top_k\": 30,\n",
    "                \"temperature\": 0.1,\n",
    "                \"repetition_penalty\": 1.03,\n",
    "                \"huggingfacehub_api_token\": huggingfacehub_api_token,\n",
    "            })\n",
    "        chat_model = ChatHuggingFace(llm=llm)\n",
    "    return chat_model\n",
    "\n",
    "\n",
    "def basic_chain(model=None, prompt=None):\n",
    "    if not model:\n",
    "        model = get_model()\n",
    "    if not prompt:\n",
    "        prompt = ChatPromptTemplate.from_template(\"Tell me the most noteworthy books by the author {author}\")\n",
    "\n",
    "    chain = prompt | model\n",
    "    return chain\n",
    "\n",
    "\n",
    "def main():\n",
    "    load_dotenv()\n",
    "\n",
    "    prompt = ChatPromptTemplate.from_template(\"Tell me the most noteworthy books by the author {author}\")\n",
    "    chain = basic_chain(prompt=prompt) | StrOutputParser()\n",
    "\n",
    "    results = chain.invoke({\"author\": \"William Faulkner\"})\n",
    "    print(results)\n",
    "\n",
    "\n",
    "if __name__ == '__main__':\n",
    "    main()"
   ]
  },
  {
   "cell_type": "markdown",
   "metadata": {},
   "source": [
    "ensemble.py"
   ]
  },
  {
   "cell_type": "code",
   "execution_count": 19,
   "metadata": {},
   "outputs": [
    {
     "ename": "ImportError",
     "evalue": "cannot import name 'get_model' from 'basic_chain' (c:\\Users\\waviv\\OneDrive\\Documents\\Working Folder\\Development\\RAG LLM\\basic_chain.py)",
     "output_type": "error",
     "traceback": [
      "\u001b[1;31m---------------------------------------------------------------------------\u001b[0m",
      "\u001b[1;31mImportError\u001b[0m                               Traceback (most recent call last)",
      "Cell \u001b[1;32mIn[19], line 7\u001b[0m\n\u001b[0;32m      4\u001b[0m \u001b[38;5;28;01mfrom\u001b[39;00m \u001b[38;5;21;01mlangchain\u001b[39;00m\u001b[38;5;21;01m.\u001b[39;00m\u001b[38;5;21;01mretrievers\u001b[39;00m \u001b[38;5;28;01mimport\u001b[39;00m EnsembleRetriever\n\u001b[0;32m      5\u001b[0m \u001b[38;5;28;01mfrom\u001b[39;00m \u001b[38;5;21;01mlangchain_core\u001b[39;00m\u001b[38;5;21;01m.\u001b[39;00m\u001b[38;5;21;01moutput_parsers\u001b[39;00m \u001b[38;5;28;01mimport\u001b[39;00m StrOutputParser\n\u001b[1;32m----> 7\u001b[0m \u001b[38;5;28;01mfrom\u001b[39;00m \u001b[38;5;21;01mbasic_chain\u001b[39;00m \u001b[38;5;28;01mimport\u001b[39;00m get_model\n\u001b[0;32m      8\u001b[0m \u001b[38;5;28;01mfrom\u001b[39;00m \u001b[38;5;21;01mrag_chain\u001b[39;00m \u001b[38;5;28;01mimport\u001b[39;00m make_rag_chain\n\u001b[0;32m      9\u001b[0m \u001b[38;5;28;01mfrom\u001b[39;00m \u001b[38;5;21;01mremote_loader\u001b[39;00m \u001b[38;5;28;01mimport\u001b[39;00m load_web_page\n",
      "\u001b[1;31mImportError\u001b[0m: cannot import name 'get_model' from 'basic_chain' (c:\\Users\\waviv\\OneDrive\\Documents\\Working Folder\\Development\\RAG LLM\\basic_chain.py)"
     ]
    }
   ],
   "source": [
    "import os\n",
    "\n",
    "from langchain_community.retrievers import BM25Retriever\n",
    "from langchain.retrievers import EnsembleRetriever\n",
    "from langchain_core.output_parsers import StrOutputParser\n",
    "\n",
    "from basic_chain import get_model\n",
    "from rag_chain import make_rag_chain\n",
    "from remote_loader import load_web_page\n",
    "from splitter import split_documents\n",
    "from vector_store import create_vector_db\n",
    "from dotenv import load_dotenv\n",
    "\n",
    "\n",
    "def ensemble_retriever_from_docs(docs, embeddings=None):\n",
    "    texts = split_documents(docs)\n",
    "    vs = create_vector_db(texts, embeddings)\n",
    "    vs_retriever = vs.as_retriever()\n",
    "\n",
    "    bm25_retriever = BM25Retriever.from_texts([t.page_content for t in texts])\n",
    "\n",
    "    ensemble_retriever = EnsembleRetriever(\n",
    "        retrievers=[bm25_retriever, vs_retriever],\n",
    "        weights=[0.5, 0.5])\n",
    "\n",
    "    return ensemble_retriever"
   ]
  },
  {
   "cell_type": "markdown",
   "metadata": {},
   "source": [
    "filter.py"
   ]
  },
  {
   "cell_type": "code",
   "execution_count": 20,
   "metadata": {},
   "outputs": [
    {
     "ename": "ImportError",
     "evalue": "cannot import name 'get_model' from 'basic_chain' (c:\\Users\\waviv\\OneDrive\\Documents\\Working Folder\\Development\\RAG LLM\\basic_chain.py)",
     "output_type": "error",
     "traceback": [
      "\u001b[1;31m---------------------------------------------------------------------------\u001b[0m",
      "\u001b[1;31mImportError\u001b[0m                               Traceback (most recent call last)",
      "Cell \u001b[1;32mIn[20], line 7\u001b[0m\n\u001b[0;32m      4\u001b[0m \u001b[38;5;28;01mfrom\u001b[39;00m \u001b[38;5;21;01mlangchain\u001b[39;00m\u001b[38;5;21;01m.\u001b[39;00m\u001b[38;5;21;01mretrievers\u001b[39;00m \u001b[38;5;28;01mimport\u001b[39;00m EnsembleRetriever, ContextualCompressionRetriever, MergerRetriever\n\u001b[0;32m      5\u001b[0m \u001b[38;5;28;01mfrom\u001b[39;00m \u001b[38;5;21;01mlangchain\u001b[39;00m\u001b[38;5;21;01m.\u001b[39;00m\u001b[38;5;21;01mchains\u001b[39;00m \u001b[38;5;28;01mimport\u001b[39;00m RetrievalQA\n\u001b[1;32m----> 7\u001b[0m \u001b[38;5;28;01mfrom\u001b[39;00m \u001b[38;5;21;01mbasic_chain\u001b[39;00m \u001b[38;5;28;01mimport\u001b[39;00m get_model\n\u001b[0;32m      8\u001b[0m \u001b[38;5;28;01mfrom\u001b[39;00m \u001b[38;5;21;01mensemble\u001b[39;00m \u001b[38;5;28;01mimport\u001b[39;00m ensemble_retriever_from_docs\n\u001b[0;32m      9\u001b[0m \u001b[38;5;28;01mfrom\u001b[39;00m \u001b[38;5;21;01mremote_loader\u001b[39;00m \u001b[38;5;28;01mimport\u001b[39;00m load_web_page\n",
      "\u001b[1;31mImportError\u001b[0m: cannot import name 'get_model' from 'basic_chain' (c:\\Users\\waviv\\OneDrive\\Documents\\Working Folder\\Development\\RAG LLM\\basic_chain.py)"
     ]
    }
   ],
   "source": [
    "\n",
    "from langchain.retrievers.document_compressors import DocumentCompressorPipeline\n",
    "from langchain_community.document_transformers import EmbeddingsRedundantFilter, LongContextReorder\n",
    "from langchain_community.embeddings import HuggingFaceBgeEmbeddings, HuggingFaceEmbeddings\n",
    "from langchain.retrievers import EnsembleRetriever, ContextualCompressionRetriever, MergerRetriever\n",
    "from langchain.chains import RetrievalQA\n",
    "\n",
    "from basic_chain import get_model\n",
    "from ensemble import ensemble_retriever_from_docs\n",
    "from remote_loader import load_web_page\n",
    "from vector_store import create_vector_db\n",
    "\n",
    "from dotenv import load_dotenv\n",
    "\n",
    "\n",
    "def create_retriever(texts):\n",
    "    dense_embeddings = HuggingFaceEmbeddings(model_name=\"all-MiniLM-L6-v2\")\n",
    "    sparse_embeddings = HuggingFaceBgeEmbeddings(model_name=\"BAAI/bge-large-en\",\n",
    "                                                 encode_kwargs={'normalize_embeddings': False})\n",
    "    dense_vs = create_vector_db(texts, collection_name=\"dense\", embeddings=dense_embeddings)\n",
    "    sparse_vs = create_vector_db(texts, collection_name=\"sparse\", embeddings=sparse_embeddings)\n",
    "    vector_stores = [dense_vs, sparse_vs]\n",
    "\n",
    "    emb_filter = EmbeddingsRedundantFilter(embeddings=sparse_embeddings)\n",
    "    reordering = LongContextReorder()\n",
    "    pipeline = DocumentCompressorPipeline(transformers=[emb_filter, reordering])\n",
    "\n",
    "    base_retrievers = [vs.as_retriever() for vs in vector_stores]\n",
    "    lotr = MergerRetriever(retrievers=base_retrievers)\n",
    "\n",
    "    compression_retriever_reordered = ContextualCompressionRetriever(\n",
    "        base_compressor=pipeline, base_retriever=lotr, search_kwargs={\"k\": 5, \"include_metadata\": True}\n",
    "    )\n",
    "    return compression_retriever_reordered"
   ]
  },
  {
   "cell_type": "markdown",
   "metadata": {},
   "source": [
    "rag_chain.py"
   ]
  },
  {
   "cell_type": "code",
   "execution_count": 21,
   "metadata": {},
   "outputs": [
    {
     "ename": "ImportError",
     "evalue": "cannot import name 'basic_chain' from 'basic_chain' (c:\\Users\\waviv\\OneDrive\\Documents\\Working Folder\\Development\\RAG LLM\\basic_chain.py)",
     "output_type": "error",
     "traceback": [
      "\u001b[1;31m---------------------------------------------------------------------------\u001b[0m",
      "\u001b[1;31mImportError\u001b[0m                               Traceback (most recent call last)",
      "Cell \u001b[1;32mIn[21], line 10\u001b[0m\n\u001b[0;32m      7\u001b[0m \u001b[38;5;28;01mfrom\u001b[39;00m \u001b[38;5;21;01mlangchain_core\u001b[39;00m\u001b[38;5;21;01m.\u001b[39;00m\u001b[38;5;21;01mrunnables\u001b[39;00m \u001b[38;5;28;01mimport\u001b[39;00m RunnablePassthrough, RunnableLambda\n\u001b[0;32m      8\u001b[0m \u001b[38;5;28;01mfrom\u001b[39;00m \u001b[38;5;21;01mlangchain_core\u001b[39;00m\u001b[38;5;21;01m.\u001b[39;00m\u001b[38;5;21;01mmessages\u001b[39;00m\u001b[38;5;21;01m.\u001b[39;00m\u001b[38;5;21;01mbase\u001b[39;00m \u001b[38;5;28;01mimport\u001b[39;00m BaseMessage\n\u001b[1;32m---> 10\u001b[0m \u001b[38;5;28;01mfrom\u001b[39;00m \u001b[38;5;21;01mbasic_chain\u001b[39;00m \u001b[38;5;28;01mimport\u001b[39;00m basic_chain, get_model\n\u001b[0;32m     11\u001b[0m \u001b[38;5;28;01mfrom\u001b[39;00m \u001b[38;5;21;01mremote_loader\u001b[39;00m \u001b[38;5;28;01mimport\u001b[39;00m get_wiki_docs\n\u001b[0;32m     12\u001b[0m \u001b[38;5;28;01mfrom\u001b[39;00m \u001b[38;5;21;01msplitter\u001b[39;00m \u001b[38;5;28;01mimport\u001b[39;00m split_documents\n",
      "\u001b[1;31mImportError\u001b[0m: cannot import name 'basic_chain' from 'basic_chain' (c:\\Users\\waviv\\OneDrive\\Documents\\Working Folder\\Development\\RAG LLM\\basic_chain.py)"
     ]
    }
   ],
   "source": [
    "import os\n",
    "\n",
    "from dotenv import load_dotenv\n",
    "from langchain import hub\n",
    "from langchain_core.output_parsers import StrOutputParser\n",
    "from langchain_core.prompts import ChatPromptTemplate\n",
    "from langchain_core.runnables import RunnablePassthrough, RunnableLambda\n",
    "from langchain_core.messages.base import BaseMessage\n",
    "\n",
    "from basic_chain import basic_chain, get_model\n",
    "from remote_loader import get_wiki_docs\n",
    "from splitter import split_documents\n",
    "from vector_store import create_vector_db\n",
    "\n",
    "def find_similar(vs, query):\n",
    "    docs = vs.similarity_search(query)\n",
    "    return docs\n",
    "\n",
    "\n",
    "def format_docs(docs):\n",
    "    return \"\\n\\n\".join(doc.page_content for doc in docs)\n",
    "\n",
    "\n",
    "def get_question(input):\n",
    "    if not input:\n",
    "        return None\n",
    "    elif isinstance(input,str):\n",
    "        return input\n",
    "    elif isinstance(input,dict) and 'question' in input:\n",
    "        return input['question']\n",
    "    elif isinstance(input,BaseMessage):\n",
    "        return input.content\n",
    "    else:\n",
    "        raise Exception(\"string or dict with 'question' key expected as RAG chain input.\")\n",
    "\n",
    "\n",
    "def make_rag_chain(model, retriever, rag_prompt = None):\n",
    "    # We will use a prompt template from langchain hub.\n",
    "    if not rag_prompt:\n",
    "        rag_prompt = hub.pull(\"rlm/rag-prompt\")\n",
    "\n",
    "    # And we will use the LangChain RunnablePassthrough to add some custom processing into our chain.\n",
    "    rag_chain = (\n",
    "            {\n",
    "                \"context\": RunnableLambda(get_question) | retriever | format_docs,\n",
    "                \"question\": RunnablePassthrough()\n",
    "            }\n",
    "            | rag_prompt\n",
    "            | model\n",
    "    )\n",
    "\n",
    "    return rag_chain"
   ]
  },
  {
   "cell_type": "markdown",
   "metadata": {},
   "source": [
    "basic vectorstore retriever"
   ]
  },
  {
   "cell_type": "code",
   "execution_count": 22,
   "metadata": {},
   "outputs": [],
   "source": [
    "def main():\n",
    "    load_dotenv()\n",
    "    model = get_model(\"ChatGPT\")\n",
    "    docs = get_wiki_docs(query=\"Bertrand Russell\", load_max_docs=5)\n",
    "    texts = split_documents(docs)\n",
    "    vs = create_vector_db(texts)\n",
    "\n",
    "    prompt = ChatPromptTemplate.from_messages([\n",
    "        (\"system\", \"You are a professor who teaches philosophical concepts to beginners.\"),\n",
    "        (\"user\", \"{input}\")\n",
    "    ])\n",
    "    # Besides similarly search, you can also use maximal marginal relevance (MMR) for selecting results.\n",
    "    # retriever = vs.as_retriever(search_type=\"mmr\")\n",
    "    retriever = vs.as_retriever()\n",
    "\n",
    "    output_parser = StrOutputParser()\n",
    "    chain = basic_chain(model, prompt)\n",
    "    base_chain = chain | output_parser\n",
    "    rag_chain = make_rag_chain(model, retriever) | output_parser\n",
    "\n",
    "    questions = [\n",
    "        \"What were the most important contributions of Bertrand Russell to philosophy?\",\n",
    "        \"What was the first book Bertrand Russell published?\",\n",
    "        \"What was most notable about \\\"An Essay on the Foundations of Geometry\\\"?\",\n",
    "    ]\n",
    "    for q in questions:\n",
    "        print(\"\\n--- QUESTION: \", q)\n",
    "        print(\"* BASE:\\n\", base_chain.invoke({\"input\": q}))\n",
    "        print(\"* RAG:\\n\", rag_chain.invoke(q))"
   ]
  },
  {
   "cell_type": "markdown",
   "metadata": {},
   "source": [
    "Adding Conversational Memory"
   ]
  },
  {
   "cell_type": "markdown",
   "metadata": {},
   "source": [
    "memory.py"
   ]
  },
  {
   "cell_type": "code",
   "execution_count": 23,
   "metadata": {},
   "outputs": [
    {
     "ename": "ImportError",
     "evalue": "cannot import name 'get_model' from 'basic_chain' (c:\\Users\\waviv\\OneDrive\\Documents\\Working Folder\\Development\\RAG LLM\\basic_chain.py)",
     "output_type": "error",
     "traceback": [
      "\u001b[1;31m---------------------------------------------------------------------------\u001b[0m",
      "\u001b[1;31mImportError\u001b[0m                               Traceback (most recent call last)",
      "Cell \u001b[1;32mIn[23], line 14\u001b[0m\n\u001b[0;32m     11\u001b[0m \u001b[38;5;28;01mfrom\u001b[39;00m \u001b[38;5;21;01mlangchain_core\u001b[39;00m\u001b[38;5;21;01m.\u001b[39;00m\u001b[38;5;21;01mretrievers\u001b[39;00m \u001b[38;5;28;01mimport\u001b[39;00m BaseRetriever\n\u001b[0;32m     12\u001b[0m \u001b[38;5;28;01mfrom\u001b[39;00m \u001b[38;5;21;01mlangchain_core\u001b[39;00m\u001b[38;5;21;01m.\u001b[39;00m\u001b[38;5;21;01mrunnables\u001b[39;00m\u001b[38;5;21;01m.\u001b[39;00m\u001b[38;5;21;01mhistory\u001b[39;00m \u001b[38;5;28;01mimport\u001b[39;00m RunnableWithMessageHistory\n\u001b[1;32m---> 14\u001b[0m \u001b[38;5;28;01mfrom\u001b[39;00m \u001b[38;5;21;01mbasic_chain\u001b[39;00m \u001b[38;5;28;01mimport\u001b[39;00m get_model\n\u001b[0;32m     15\u001b[0m \u001b[38;5;28;01mfrom\u001b[39;00m \u001b[38;5;21;01mrag_chain\u001b[39;00m \u001b[38;5;28;01mimport\u001b[39;00m make_rag_chain\n\u001b[0;32m     18\u001b[0m \u001b[38;5;28;01mdef\u001b[39;00m \u001b[38;5;21mcreate_memory_chain\u001b[39m(llm, base_chain, chat_memory):\n",
      "\u001b[1;31mImportError\u001b[0m: cannot import name 'get_model' from 'basic_chain' (c:\\Users\\waviv\\OneDrive\\Documents\\Working Folder\\Development\\RAG LLM\\basic_chain.py)"
     ]
    }
   ],
   "source": [
    "import os\n",
    "from typing import List, Iterable, Any\n",
    "\n",
    "from dotenv import load_dotenv\n",
    "from langchain.memory import ChatMessageHistory\n",
    "from langchain_core.callbacks import CallbackManagerForRetrieverRun\n",
    "from langchain_core.chat_history import BaseChatMessageHistory\n",
    "from langchain_core.documents import Document\n",
    "from langchain_core.output_parsers import StrOutputParser\n",
    "from langchain_core.prompts import ChatPromptTemplate, MessagesPlaceholder\n",
    "from langchain_core.retrievers import BaseRetriever\n",
    "from langchain_core.runnables.history import RunnableWithMessageHistory\n",
    "\n",
    "from basic_chain import get_model\n",
    "from rag_chain import make_rag_chain\n",
    "\n",
    "\n",
    "def create_memory_chain(llm, base_chain, chat_memory):\n",
    "    contextualize_q_system_prompt = \"\"\"Given a chat history and the latest user question \\\n",
    "        which might reference context in the chat history, formulate a standalone question \\\n",
    "        which can be understood without the chat history. Do NOT answer the question, \\\n",
    "        just reformulate it if needed and otherwise return it as is.\"\"\"\n",
    "\n",
    "    contextualize_q_prompt = ChatPromptTemplate.from_messages(\n",
    "        [\n",
    "            (\"system\", contextualize_q_system_prompt),\n",
    "            MessagesPlaceholder(variable_name=\"chat_history\"),\n",
    "            (\"human\", \"{question}\"),\n",
    "        ]\n",
    "    )\n",
    "\n",
    "    runnable = contextualize_q_prompt | llm | base_chain\n",
    "\n",
    "    def get_session_history(session_id: str) -> BaseChatMessageHistory:\n",
    "        return chat_memory\n",
    "\n",
    "    with_message_history = RunnableWithMessageHistory(\n",
    "        runnable,\n",
    "        get_session_history,\n",
    "        input_messages_key=\"question\",\n",
    "        history_messages_key=\"chat_history\",\n",
    "    )\n",
    "    return with_message_history\n",
    "\n",
    "\n",
    "class SimpleTextRetriever(BaseRetriever):\n",
    "    docs: List[Document]\n",
    "    \"\"\"Documents.\"\"\"\n",
    "\n",
    "    @classmethod\n",
    "    def from_texts(\n",
    "            cls,\n",
    "            texts: Iterable[str],\n",
    "            **kwargs: Any,\n",
    "    ):\n",
    "        docs = [Document(page_content=t) for t in texts]\n",
    "        return cls(docs=docs, **kwargs)\n",
    "\n",
    "    def _get_relevant_documents(\n",
    "            self, query: str, *, run_manager: CallbackManagerForRetrieverRun\n",
    "    ) -> List[Document]:\n",
    "        return self.docs"
   ]
  },
  {
   "cell_type": "markdown",
   "metadata": {},
   "source": [
    "Creating full RAG chain"
   ]
  },
  {
   "cell_type": "markdown",
   "metadata": {},
   "source": [
    "full_chain.py, data used from https://github.com/streamlit/example-app-langchain-rag/tree/main/data"
   ]
  },
  {
   "cell_type": "code",
   "execution_count": null,
   "metadata": {},
   "outputs": [],
   "source": [
    "import os\n",
    "\n",
    "from dotenv import load_dotenv\n",
    "from langchain.memory import ChatMessageHistory\n",
    "from langchain_core.prompts import ChatPromptTemplate\n",
    "\n",
    "from basic_chain import get_model\n",
    "from filter import ensemble_retriever_from_docs\n",
    "from local_loader import load_txt_files\n",
    "from memory import create_memory_chain\n",
    "from rag_chain import make_rag_chain\n",
    "\n",
    "\n",
    "def create_full_chain(retriever, openai_api_key=None, chat_memory=ChatMessageHistory()):\n",
    "    model = get_model(\"ChatGPT\", openai_api_key=openai_api_key)\n",
    "    system_prompt = \"\"\"You are a helpful AI assistant for busy professionals trying to improve their health.\n",
    "    Use the following context and the users' chat history to help the user:\n",
    "    If you don't know the answer, just say that you don't know. \n",
    "    \n",
    "    Context: {context}\n",
    "    \n",
    "    Question: \"\"\"\n",
    "\n",
    "    prompt = ChatPromptTemplate.from_messages(\n",
    "        [\n",
    "            (\"system\", system_prompt),\n",
    "            (\"human\", \"{question}\"),\n",
    "        ]\n",
    "    )\n",
    "\n",
    "    rag_chain = make_rag_chain(model, retriever, rag_prompt=prompt)\n",
    "    chain = create_memory_chain(model, rag_chain, chat_memory)\n",
    "    return chain\n",
    "\n",
    "\n",
    "def ask_question(chain, query):\n",
    "    response = chain.invoke(\n",
    "        {\"question\": query},\n",
    "        config={\"configurable\": {\"session_id\": \"foo\"}}\n",
    "    )\n",
    "    return response\n",
    "\n",
    "def main():\n",
    "    load_dotenv()\n",
    "\n",
    "    from rich.console import Console\n",
    "    from rich.markdown import Markdown\n",
    "    console = Console()\n",
    "\n",
    "    docs = load_txt_files()\n",
    "    ensemble_retriever = ensemble_retriever_from_docs(docs)\n",
    "    chain = create_full_chain(ensemble_retriever)\n",
    "\n",
    "    queries = [\n",
    "        \"Generate a grocery list for my family meal plan for the next week(following 7 days). Prefer local, in-season ingredients.\"\n",
    "        \"Create a list of estimated calorie counts and grams of carbohydrates for each meal.\"\n",
    "    ]\n",
    "\n",
    "    for query in queries:\n",
    "        response = ask_question(chain, query)\n",
    "        console.print(Markdown(response.content))\n",
    "\n",
    "if __name__ == '__main__':\n",
    "    # this is to quiet parallel tokenizers warning.\n",
    "    os.environ[\"TOKENIZERS_PARALLELISM\"] = \"false\"\n",
    "    main()"
   ]
  }
 ],
 "metadata": {
  "kernelspec": {
   "display_name": "rag_llm_venv",
   "language": "python",
   "name": "python3"
  },
  "language_info": {
   "codemirror_mode": {
    "name": "ipython",
    "version": 3
   },
   "file_extension": ".py",
   "mimetype": "text/x-python",
   "name": "python",
   "nbconvert_exporter": "python",
   "pygments_lexer": "ipython3",
   "version": "3.11.9"
  }
 },
 "nbformat": 4,
 "nbformat_minor": 2
}
